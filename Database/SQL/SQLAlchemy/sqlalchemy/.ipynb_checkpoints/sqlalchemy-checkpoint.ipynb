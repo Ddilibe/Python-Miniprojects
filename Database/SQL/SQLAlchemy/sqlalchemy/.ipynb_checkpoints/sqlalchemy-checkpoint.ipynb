{
 "cells": [
  {
   "cell_type": "code",
   "execution_count": 70,
   "id": "dac23f2c",
   "metadata": {},
   "outputs": [],
   "source": [
    "import sqlalchemy\n",
    "from sqlalchemy import create_engine\n",
    "from sqlalchemy.ext.declarative import declarative_base\n",
    "from sqlalchemy import Column, String, Integer\n",
    "from sqlalchemy.orm import sessionmaker, aliased\n",
    "from sqlalchemy import tuple_, and_, or_"
   ]
  },
  {
   "cell_type": "markdown",
   "id": "250a91c3",
   "metadata": {},
   "source": [
    "# Checking the version"
   ]
  },
  {
   "cell_type": "code",
   "execution_count": 2,
   "id": "32881e81",
   "metadata": {},
   "outputs": [
    {
     "data": {
      "text/plain": [
       "'1.4.36'"
      ]
     },
     "execution_count": 2,
     "metadata": {},
     "output_type": "execute_result"
    }
   ],
   "source": [
    "sqlalchemy.__version__"
   ]
  },
  {
   "cell_type": "markdown",
   "id": "e4f2ed7d",
   "metadata": {},
   "source": [
    "# Connecting to the in-memory-only SQLite database"
   ]
  },
  {
   "cell_type": "code",
   "execution_count": 3,
   "id": "b0b9c14b",
   "metadata": {},
   "outputs": [],
   "source": [
    "engine = create_engine('sqlite:///:memory:', echo=True)"
   ]
  },
  {
   "cell_type": "markdown",
   "id": "1397079a",
   "metadata": {},
   "source": [
    "The echo flag is a shortcut to setting up SQLAlchemy logging, which is accomplished via Python’s standard logging module."
   ]
  },
  {
   "cell_type": "markdown",
   "id": "a45629f7",
   "metadata": {},
   "source": [
    "# Declaraing a Mapping"
   ]
  },
  {
   "cell_type": "code",
   "execution_count": 4,
   "id": "78f4bc3a",
   "metadata": {},
   "outputs": [],
   "source": [
    "Base = declarative_base()"
   ]
  },
  {
   "cell_type": "code",
   "execution_count": 5,
   "id": "f470c589",
   "metadata": {},
   "outputs": [],
   "source": [
    "class User(Base):\n",
    "    __tablename__ = 'users'\n",
    "    \n",
    "    id = Column(Integer, primary_key=True)\n",
    "    name = Column(String)\n",
    "    fullname = Column(String)\n",
    "    nickname = Column(String)\n",
    "    \n",
    "    def __repr__(self):\n",
    "        return f\"<User(name={self.name}, fullname={self.fullname}, nickname={self.nickname})\""
   ]
  },
  {
   "cell_type": "code",
   "execution_count": 6,
   "id": "bc9a377f",
   "metadata": {},
   "outputs": [
    {
     "data": {
      "text/plain": [
       "Table('users', MetaData(), Column('id', Integer(), table=<users>, primary_key=True, nullable=False), Column('name', String(), table=<users>), Column('fullname', String(), table=<users>), Column('nickname', String(), table=<users>), schema=None)"
      ]
     },
     "execution_count": 6,
     "metadata": {},
     "output_type": "execute_result"
    }
   ],
   "source": [
    "User.__table__"
   ]
  },
  {
   "cell_type": "code",
   "execution_count": 7,
   "id": "f9f4c4f5",
   "metadata": {},
   "outputs": [
    {
     "name": "stdout",
     "output_type": "stream",
     "text": [
      "2022-09-08 05:55:28,484 INFO sqlalchemy.engine.Engine BEGIN (implicit)\n",
      "2022-09-08 05:55:28,491 INFO sqlalchemy.engine.Engine PRAGMA main.table_info(\"users\")\n",
      "2022-09-08 05:55:28,492 INFO sqlalchemy.engine.Engine [raw sql] ()\n",
      "2022-09-08 05:55:28,494 INFO sqlalchemy.engine.Engine PRAGMA temp.table_info(\"users\")\n",
      "2022-09-08 05:55:28,496 INFO sqlalchemy.engine.Engine [raw sql] ()\n",
      "2022-09-08 05:55:28,500 INFO sqlalchemy.engine.Engine \n",
      "CREATE TABLE users (\n",
      "\tid INTEGER NOT NULL, \n",
      "\tname VARCHAR, \n",
      "\tfullname VARCHAR, \n",
      "\tnickname VARCHAR, \n",
      "\tPRIMARY KEY (id)\n",
      ")\n",
      "\n",
      "\n",
      "2022-09-08 05:55:28,501 INFO sqlalchemy.engine.Engine [no key 0.00144s] ()\n",
      "2022-09-08 05:55:28,504 INFO sqlalchemy.engine.Engine COMMIT\n"
     ]
    }
   ],
   "source": [
    "Base.metadata.create_all(engine)"
   ]
  },
  {
   "cell_type": "code",
   "execution_count": 8,
   "id": "c6a48ec3",
   "metadata": {},
   "outputs": [],
   "source": [
    "ed_user = User(name='ed', fullname='Ed Jones', nickname='edsnickname')"
   ]
  },
  {
   "cell_type": "code",
   "execution_count": 9,
   "id": "85e8edbc",
   "metadata": {},
   "outputs": [
    {
     "data": {
      "text/plain": [
       "'ed'"
      ]
     },
     "execution_count": 9,
     "metadata": {},
     "output_type": "execute_result"
    }
   ],
   "source": [
    "ed_user.name"
   ]
  },
  {
   "cell_type": "code",
   "execution_count": 10,
   "id": "16c6fbe6",
   "metadata": {},
   "outputs": [
    {
     "data": {
      "text/plain": [
       "'edsnickname'"
      ]
     },
     "execution_count": 10,
     "metadata": {},
     "output_type": "execute_result"
    }
   ],
   "source": [
    "ed_user.nickname"
   ]
  },
  {
   "cell_type": "code",
   "execution_count": 11,
   "id": "a0aa2a54",
   "metadata": {},
   "outputs": [
    {
     "data": {
      "text/plain": [
       "'None'"
      ]
     },
     "execution_count": 11,
     "metadata": {},
     "output_type": "execute_result"
    }
   ],
   "source": [
    "str(ed_user.id)"
   ]
  },
  {
   "cell_type": "markdown",
   "id": "02df70de",
   "metadata": {},
   "source": [
    "# Creating Sessions"
   ]
  },
  {
   "cell_type": "code",
   "execution_count": 12,
   "id": "849c1d3a",
   "metadata": {},
   "outputs": [],
   "source": [
    "Session = sessionmaker(bind=engine)"
   ]
  },
  {
   "cell_type": "markdown",
   "id": "5d1ea54d",
   "metadata": {},
   "source": [
    "If the sessions does not have an engine yet, set it up like this\n",
    "##### Session = sessionmaker() \n",
    "Later when you create your engine, connect it to the sessions using\n",
    "###### Session.configure(bind=engine)"
   ]
  },
  {
   "cell_type": "markdown",
   "id": "950f4239",
   "metadata": {},
   "source": [
    "# Adding and Updating Objects"
   ]
  },
  {
   "cell_type": "code",
   "execution_count": 13,
   "id": "02820463",
   "metadata": {},
   "outputs": [],
   "source": [
    "session = Session()\n",
    "session.add(ed_user)"
   ]
  },
  {
   "cell_type": "code",
   "execution_count": 14,
   "id": "82027db4",
   "metadata": {
    "scrolled": true
   },
   "outputs": [
    {
     "name": "stdout",
     "output_type": "stream",
     "text": [
      "2022-09-08 05:55:29,818 INFO sqlalchemy.engine.Engine BEGIN (implicit)\n",
      "2022-09-08 05:55:29,821 INFO sqlalchemy.engine.Engine INSERT INTO users (name, fullname, nickname) VALUES (?, ?, ?)\n",
      "2022-09-08 05:55:29,822 INFO sqlalchemy.engine.Engine [generated in 0.00118s] ('ed', 'Ed Jones', 'edsnickname')\n",
      "2022-09-08 05:55:29,831 INFO sqlalchemy.engine.Engine SELECT users.id AS users_id, users.name AS users_name, users.fullname AS users_fullname, users.nickname AS users_nickname \n",
      "FROM users \n",
      "WHERE users.name = ?\n",
      " LIMIT ? OFFSET ?\n",
      "2022-09-08 05:55:29,834 INFO sqlalchemy.engine.Engine [generated in 0.00363s] ('ed', 1, 0)\n"
     ]
    }
   ],
   "source": [
    "our_user = session.query(User).filter_by(name='ed').first()"
   ]
  },
  {
   "cell_type": "code",
   "execution_count": 15,
   "id": "f613d951",
   "metadata": {},
   "outputs": [
    {
     "name": "stdout",
     "output_type": "stream",
     "text": [
      "<User(name=ed, fullname=Ed Jones, nickname=edsnickname)\n"
     ]
    }
   ],
   "source": [
    "print(our_user)"
   ]
  },
  {
   "cell_type": "code",
   "execution_count": 16,
   "id": "6a713308",
   "metadata": {},
   "outputs": [
    {
     "data": {
      "text/plain": [
       "True"
      ]
     },
     "execution_count": 16,
     "metadata": {},
     "output_type": "execute_result"
    }
   ],
   "source": [
    "ed_user is our_user"
   ]
  },
  {
   "cell_type": "code",
   "execution_count": 17,
   "id": "55546515",
   "metadata": {},
   "outputs": [],
   "source": [
    "session.add_all([\n",
    "    User(name=\"wendy\", fullname='Wendy Williams', nickname='windy'),\n",
    "    User(name='mary', fullname='Mary Contrary', nickname='mary'),\n",
    "    User(name='fred', fullname='Fred Flintstone', nickname='freddy')\n",
    "])"
   ]
  },
  {
   "cell_type": "code",
   "execution_count": 18,
   "id": "fd9e40c5",
   "metadata": {},
   "outputs": [],
   "source": [
    "ed_user.nickname = 'eddie'"
   ]
  },
  {
   "cell_type": "code",
   "execution_count": 19,
   "id": "296f4604",
   "metadata": {},
   "outputs": [
    {
     "data": {
      "text/plain": [
       "IdentitySet([<User(name=ed, fullname=Ed Jones, nickname=eddie)])"
      ]
     },
     "execution_count": 19,
     "metadata": {},
     "output_type": "execute_result"
    }
   ],
   "source": [
    "session.dirty"
   ]
  },
  {
   "cell_type": "code",
   "execution_count": 20,
   "id": "1d82f73e",
   "metadata": {},
   "outputs": [
    {
     "data": {
      "text/plain": [
       "IdentitySet([<User(name=wendy, fullname=Wendy Williams, nickname=windy), <User(name=mary, fullname=Mary Contrary, nickname=mary), <User(name=fred, fullname=Fred Flintstone, nickname=freddy)])"
      ]
     },
     "execution_count": 20,
     "metadata": {},
     "output_type": "execute_result"
    }
   ],
   "source": [
    "session.new"
   ]
  },
  {
   "cell_type": "code",
   "execution_count": 21,
   "id": "3c8cebe6",
   "metadata": {},
   "outputs": [
    {
     "name": "stdout",
     "output_type": "stream",
     "text": [
      "2022-09-08 06:00:37,142 INFO sqlalchemy.engine.Engine UPDATE users SET nickname=? WHERE users.id = ?\n",
      "2022-09-08 06:00:37,145 INFO sqlalchemy.engine.Engine [generated in 0.00284s] ('eddie', 1)\n",
      "2022-09-08 06:00:37,147 INFO sqlalchemy.engine.Engine INSERT INTO users (name, fullname, nickname) VALUES (?, ?, ?)\n",
      "2022-09-08 06:00:37,149 INFO sqlalchemy.engine.Engine [cached since 307.3s ago] ('wendy', 'Wendy Williams', 'windy')\n",
      "2022-09-08 06:00:37,151 INFO sqlalchemy.engine.Engine INSERT INTO users (name, fullname, nickname) VALUES (?, ?, ?)\n",
      "2022-09-08 06:00:37,153 INFO sqlalchemy.engine.Engine [cached since 307.3s ago] ('mary', 'Mary Contrary', 'mary')\n",
      "2022-09-08 06:00:37,155 INFO sqlalchemy.engine.Engine INSERT INTO users (name, fullname, nickname) VALUES (?, ?, ?)\n",
      "2022-09-08 06:00:37,156 INFO sqlalchemy.engine.Engine [cached since 307.3s ago] ('fred', 'Fred Flintstone', 'freddy')\n",
      "2022-09-08 06:00:37,163 INFO sqlalchemy.engine.Engine COMMIT\n"
     ]
    }
   ],
   "source": [
    "session.commit()"
   ]
  },
  {
   "cell_type": "code",
   "execution_count": 22,
   "id": "22ab5af9",
   "metadata": {},
   "outputs": [
    {
     "name": "stdout",
     "output_type": "stream",
     "text": [
      "2022-09-08 06:01:30,777 INFO sqlalchemy.engine.Engine BEGIN (implicit)\n",
      "2022-09-08 06:01:30,783 INFO sqlalchemy.engine.Engine SELECT users.id AS users_id, users.name AS users_name, users.fullname AS users_fullname, users.nickname AS users_nickname \n",
      "FROM users \n",
      "WHERE users.id = ?\n",
      "2022-09-08 06:01:30,786 INFO sqlalchemy.engine.Engine [generated in 0.00255s] (1,)\n"
     ]
    },
    {
     "data": {
      "text/plain": [
       "1"
      ]
     },
     "execution_count": 22,
     "metadata": {},
     "output_type": "execute_result"
    }
   ],
   "source": [
    "ed_user.id"
   ]
  },
  {
   "cell_type": "code",
   "execution_count": 23,
   "id": "c58dbdc8",
   "metadata": {},
   "outputs": [],
   "source": [
    "ed_user.name = 'Edwardo'\n",
    "fake_user = User(name='fakeuser', fullname='Invalid',nickname='12345')\n",
    "session.add(fake_user)"
   ]
  },
  {
   "cell_type": "code",
   "execution_count": 24,
   "id": "6c9c9b11",
   "metadata": {},
   "outputs": [
    {
     "data": {
      "text/plain": [
       "IdentitySet([<User(name=fakeuser, fullname=Invalid, nickname=12345)])"
      ]
     },
     "execution_count": 24,
     "metadata": {},
     "output_type": "execute_result"
    }
   ],
   "source": [
    "session.new"
   ]
  },
  {
   "cell_type": "code",
   "execution_count": 25,
   "id": "deb8a970",
   "metadata": {},
   "outputs": [
    {
     "name": "stdout",
     "output_type": "stream",
     "text": [
      "2022-09-08 06:05:26,079 INFO sqlalchemy.engine.Engine UPDATE users SET name=? WHERE users.id = ?\n",
      "2022-09-08 06:05:26,080 INFO sqlalchemy.engine.Engine [generated in 0.00179s] ('Edwardo', 1)\n",
      "2022-09-08 06:05:26,083 INFO sqlalchemy.engine.Engine INSERT INTO users (name, fullname, nickname) VALUES (?, ?, ?)\n",
      "2022-09-08 06:05:26,086 INFO sqlalchemy.engine.Engine [cached since 596.3s ago] ('fakeuser', 'Invalid', '12345')\n",
      "2022-09-08 06:05:26,092 INFO sqlalchemy.engine.Engine SELECT users.id AS users_id, users.name AS users_name, users.fullname AS users_fullname, users.nickname AS users_nickname \n",
      "FROM users \n",
      "WHERE users.name IN (?, ?)\n",
      "2022-09-08 06:05:26,095 INFO sqlalchemy.engine.Engine [generated in 0.00400s] ('Edwardo', 'fakeuser')\n"
     ]
    },
    {
     "data": {
      "text/plain": [
       "[<User(name=Edwardo, fullname=Ed Jones, nickname=eddie),\n",
       " <User(name=fakeuser, fullname=Invalid, nickname=12345)]"
      ]
     },
     "execution_count": 25,
     "metadata": {},
     "output_type": "execute_result"
    }
   ],
   "source": [
    "session.query(User).filter(User.name.in_(['Edwardo', 'fakeuser'])).all()"
   ]
  },
  {
   "cell_type": "code",
   "execution_count": 26,
   "id": "e3765d73",
   "metadata": {},
   "outputs": [
    {
     "name": "stdout",
     "output_type": "stream",
     "text": [
      "2022-09-08 06:05:58,076 INFO sqlalchemy.engine.Engine ROLLBACK\n"
     ]
    }
   ],
   "source": [
    "session.rollback()"
   ]
  },
  {
   "cell_type": "code",
   "execution_count": 27,
   "id": "0d1a64cb",
   "metadata": {},
   "outputs": [
    {
     "name": "stdout",
     "output_type": "stream",
     "text": [
      "2022-09-08 06:06:09,657 INFO sqlalchemy.engine.Engine BEGIN (implicit)\n",
      "2022-09-08 06:06:09,660 INFO sqlalchemy.engine.Engine SELECT users.id AS users_id, users.name AS users_name, users.fullname AS users_fullname, users.nickname AS users_nickname \n",
      "FROM users \n",
      "WHERE users.id = ?\n",
      "2022-09-08 06:06:09,662 INFO sqlalchemy.engine.Engine [cached since 278.9s ago] (1,)\n"
     ]
    },
    {
     "data": {
      "text/plain": [
       "'ed'"
      ]
     },
     "execution_count": 27,
     "metadata": {},
     "output_type": "execute_result"
    }
   ],
   "source": [
    "ed_user.name"
   ]
  },
  {
   "cell_type": "code",
   "execution_count": 28,
   "id": "d101645f",
   "metadata": {},
   "outputs": [
    {
     "data": {
      "text/plain": [
       "False"
      ]
     },
     "execution_count": 28,
     "metadata": {},
     "output_type": "execute_result"
    }
   ],
   "source": [
    "fake_user in session"
   ]
  },
  {
   "cell_type": "markdown",
   "id": "ed6902f1",
   "metadata": {},
   "source": [
    "# Querying"
   ]
  },
  {
   "cell_type": "code",
   "execution_count": 29,
   "id": "db74695b",
   "metadata": {},
   "outputs": [
    {
     "name": "stdout",
     "output_type": "stream",
     "text": [
      "2022-09-08 06:08:45,528 INFO sqlalchemy.engine.Engine SELECT users.id AS users_id, users.name AS users_name, users.fullname AS users_fullname, users.nickname AS users_nickname \n",
      "FROM users ORDER BY users.id\n",
      "2022-09-08 06:08:45,531 INFO sqlalchemy.engine.Engine [generated in 0.00282s] ()\n",
      "ed Ed Jones\n",
      "wendy Wendy Williams\n",
      "mary Mary Contrary\n",
      "fred Fred Flintstone\n"
     ]
    }
   ],
   "source": [
    "for instance in session.query(User).order_by(User.id):\n",
    "    print(instance.name, instance.fullname)"
   ]
  },
  {
   "cell_type": "code",
   "execution_count": 31,
   "id": "607c99fb",
   "metadata": {},
   "outputs": [
    {
     "name": "stdout",
     "output_type": "stream",
     "text": [
      "2022-09-08 06:09:53,774 INFO sqlalchemy.engine.Engine SELECT users.name AS users_name, users.fullname AS users_fullname \n",
      "FROM users\n",
      "2022-09-08 06:09:53,777 INFO sqlalchemy.engine.Engine [cached since 5.473s ago] ()\n",
      "ed Ed Jones\n",
      "wendy Wendy Williams\n",
      "mary Mary Contrary\n",
      "fred Fred Flintstone\n"
     ]
    }
   ],
   "source": [
    "for name, fullname in session.query(User.name, User.fullname):\n",
    "    print(name, fullname)"
   ]
  },
  {
   "cell_type": "code",
   "execution_count": 32,
   "id": "45085bd5",
   "metadata": {},
   "outputs": [
    {
     "name": "stdout",
     "output_type": "stream",
     "text": [
      "2022-09-08 06:11:42,254 INFO sqlalchemy.engine.Engine SELECT users.id AS users_id, users.name AS users_name, users.fullname AS users_fullname, users.nickname AS users_nickname, users.name AS users_name__1 \n",
      "FROM users\n",
      "2022-09-08 06:11:42,257 INFO sqlalchemy.engine.Engine [generated in 0.00371s] ()\n",
      "<User(name=ed, fullname=Ed Jones, nickname=eddie) ed\n",
      "<User(name=wendy, fullname=Wendy Williams, nickname=windy) wendy\n",
      "<User(name=mary, fullname=Mary Contrary, nickname=mary) mary\n",
      "<User(name=fred, fullname=Fred Flintstone, nickname=freddy) fred\n"
     ]
    }
   ],
   "source": [
    "for row in session.query(User, User.name).all():\n",
    "    print(row.User, row.name)"
   ]
  },
  {
   "cell_type": "code",
   "execution_count": 33,
   "id": "b3b6146f",
   "metadata": {},
   "outputs": [
    {
     "name": "stdout",
     "output_type": "stream",
     "text": [
      "2022-09-08 06:12:05,737 INFO sqlalchemy.engine.Engine SELECT users.id AS users_id, users.name AS users_name, users.fullname AS users_fullname, users.nickname AS users_nickname \n",
      "FROM users\n",
      "2022-09-08 06:12:05,740 INFO sqlalchemy.engine.Engine [generated in 0.00320s] ()\n",
      "<User(name=ed, fullname=Ed Jones, nickname=eddie)\n",
      "<User(name=wendy, fullname=Wendy Williams, nickname=windy)\n",
      "<User(name=mary, fullname=Mary Contrary, nickname=mary)\n",
      "<User(name=fred, fullname=Fred Flintstone, nickname=freddy)\n"
     ]
    }
   ],
   "source": [
    "for row in session.query(User):\n",
    "    print(row)"
   ]
  },
  {
   "cell_type": "code",
   "execution_count": 35,
   "id": "c1a6dd13",
   "metadata": {},
   "outputs": [
    {
     "name": "stdout",
     "output_type": "stream",
     "text": [
      "2022-09-08 06:13:59,427 INFO sqlalchemy.engine.Engine SELECT users.name AS name_label \n",
      "FROM users\n",
      "2022-09-08 06:13:59,430 INFO sqlalchemy.engine.Engine [cached since 21.39s ago] ()\n",
      "ed\n",
      "wendy\n",
      "mary\n",
      "fred\n"
     ]
    }
   ],
   "source": [
    "for row in  session.query(User.name.label('name_label')).all():\n",
    "    print(row.name_label)"
   ]
  },
  {
   "cell_type": "code",
   "execution_count": 39,
   "id": "3d9a3330",
   "metadata": {},
   "outputs": [
    {
     "name": "stdout",
     "output_type": "stream",
     "text": [
      "2022-09-08 06:16:14,041 INFO sqlalchemy.engine.Engine SELECT alias.id AS alias_id, alias.name AS alias_name, alias.fullname AS alias_fullname, alias.nickname AS alias_nickname, alias.name AS alias_name__1 \n",
      "FROM users AS alias\n",
      "2022-09-08 06:16:14,043 INFO sqlalchemy.engine.Engine [cached since 7.862s ago] ()\n",
      "<User(name=ed, fullname=Ed Jones, nickname=eddie)\n",
      "<User(name=wendy, fullname=Wendy Williams, nickname=windy)\n",
      "<User(name=mary, fullname=Mary Contrary, nickname=mary)\n",
      "<User(name=fred, fullname=Fred Flintstone, nickname=freddy)\n"
     ]
    }
   ],
   "source": [
    "user_alias = aliased(User, name='alias')\n",
    "for row in session.query(user_alias, user_alias.name).all():\n",
    "    print(row.alias)"
   ]
  },
  {
   "cell_type": "code",
   "execution_count": 40,
   "id": "585a2cef",
   "metadata": {},
   "outputs": [
    {
     "name": "stdout",
     "output_type": "stream",
     "text": [
      "2022-09-08 06:17:45,668 INFO sqlalchemy.engine.Engine SELECT users.id AS users_id, users.name AS users_name, users.fullname AS users_fullname, users.nickname AS users_nickname \n",
      "FROM users ORDER BY users.id\n",
      " LIMIT ? OFFSET ?\n",
      "2022-09-08 06:17:45,670 INFO sqlalchemy.engine.Engine [generated in 0.00267s] (2, 1)\n",
      "<User(name=wendy, fullname=Wendy Williams, nickname=windy)\n",
      "<User(name=mary, fullname=Mary Contrary, nickname=mary)\n"
     ]
    }
   ],
   "source": [
    "for u in session.query(User).order_by(User.id)[1:3]:\n",
    "    print(u)"
   ]
  },
  {
   "cell_type": "code",
   "execution_count": 41,
   "id": "c01224d9",
   "metadata": {},
   "outputs": [
    {
     "name": "stdout",
     "output_type": "stream",
     "text": [
      "2022-09-08 06:19:56,169 INFO sqlalchemy.engine.Engine SELECT users.name AS users_name \n",
      "FROM users \n",
      "WHERE users.fullname = ?\n",
      "2022-09-08 06:19:56,171 INFO sqlalchemy.engine.Engine [generated in 0.00267s] ('Ed Jones',)\n",
      "ed\n"
     ]
    }
   ],
   "source": [
    "for name, in session.query(User.name).filter_by(fullname='Ed Jones'):\n",
    "    print(name)"
   ]
  },
  {
   "cell_type": "code",
   "execution_count": 44,
   "id": "29b970d0",
   "metadata": {},
   "outputs": [
    {
     "name": "stdout",
     "output_type": "stream",
     "text": [
      "2022-09-08 06:21:20,862 INFO sqlalchemy.engine.Engine SELECT users.name AS users_name \n",
      "FROM users \n",
      "WHERE users.fullname = ?\n",
      "2022-09-08 06:21:20,864 INFO sqlalchemy.engine.Engine [cached since 84.7s ago] ('Ed Jones',)\n",
      "ed\n"
     ]
    }
   ],
   "source": [
    "for name, in session.query(User.name).filter(User.fullname=='Ed Jones'):\n",
    "    print(name)"
   ]
  },
  {
   "cell_type": "code",
   "execution_count": 47,
   "id": "1d78bbf4",
   "metadata": {},
   "outputs": [
    {
     "name": "stdout",
     "output_type": "stream",
     "text": [
      "2022-09-08 06:23:35,082 INFO sqlalchemy.engine.Engine SELECT users.id AS users_id, users.name AS users_name, users.fullname AS users_fullname, users.nickname AS users_nickname \n",
      "FROM users \n",
      "WHERE users.id = ? AND users.name = ?\n",
      "2022-09-08 06:23:35,084 INFO sqlalchemy.engine.Engine [generated in 0.00287s] (1, 'mary')\n"
     ]
    }
   ],
   "source": [
    "for name in session.query(User).filter_by(id = 1).filter_by(name='mary'):\n",
    "    print(name)"
   ]
  },
  {
   "cell_type": "code",
   "execution_count": 49,
   "id": "fb404201",
   "metadata": {},
   "outputs": [
    {
     "name": "stdout",
     "output_type": "stream",
     "text": [
      "2022-09-08 06:25:02,346 INFO sqlalchemy.engine.Engine SELECT users.id AS users_id, users.name AS users_name, users.fullname AS users_fullname, users.nickname AS users_nickname \n",
      "FROM users \n",
      "WHERE users.name = ? AND users.fullname = ?\n",
      "2022-09-08 06:25:02,348 INFO sqlalchemy.engine.Engine [cached since 3.194s ago] ('ed', 'Ed Jones')\n",
      "<User(name=ed, fullname=Ed Jones, nickname=eddie)\n"
     ]
    }
   ],
   "source": [
    "for user in session.query(User).\\\n",
    "         filter(User.name=='ed').\\\n",
    "         filter(User.fullname=='Ed Jones'):\n",
    "    print(user)"
   ]
  },
  {
   "cell_type": "markdown",
   "id": "33c59064",
   "metadata": {},
   "source": [
    "###### Filtering with different and common filter operator\n"
   ]
  },
  {
   "cell_type": "code",
   "execution_count": 50,
   "id": "a6103af0",
   "metadata": {},
   "outputs": [],
   "source": [
    "jame = session.query(User).filter(User.name!='ed')"
   ]
  },
  {
   "cell_type": "code",
   "execution_count": 54,
   "id": "70675780",
   "metadata": {},
   "outputs": [
    {
     "name": "stdout",
     "output_type": "stream",
     "text": [
      "2022-09-08 06:33:43,719 INFO sqlalchemy.engine.Engine SELECT users.id AS users_id, users.name AS users_name, users.fullname AS users_fullname, users.nickname AS users_nickname \n",
      "FROM users \n",
      "WHERE users.name != ?\n",
      "2022-09-08 06:33:43,721 INFO sqlalchemy.engine.Engine [generated in 0.00206s] ('ed',)\n"
     ]
    },
    {
     "data": {
      "text/plain": [
       "[<User(name=wendy, fullname=Wendy Williams, nickname=windy),\n",
       " <User(name=mary, fullname=Mary Contrary, nickname=mary),\n",
       " <User(name=fred, fullname=Fred Flintstone, nickname=freddy)]"
      ]
     },
     "execution_count": 54,
     "metadata": {},
     "output_type": "execute_result"
    }
   ],
   "source": [
    "jame.all()"
   ]
  },
  {
   "cell_type": "code",
   "execution_count": 55,
   "id": "1cc7a39e",
   "metadata": {},
   "outputs": [
    {
     "name": "stdout",
     "output_type": "stream",
     "text": [
      "2022-09-08 06:34:35,990 INFO sqlalchemy.engine.Engine SELECT users.id AS users_id, users.name AS users_name, users.fullname AS users_fullname, users.nickname AS users_nickname \n",
      "FROM users \n",
      "WHERE users.name LIKE ?\n",
      "2022-09-08 06:34:35,992 INFO sqlalchemy.engine.Engine [generated in 0.00360s] ('%mary%',)\n",
      "mary\n"
     ]
    }
   ],
   "source": [
    "for i in session.query(User).filter(User.name.like('%mary%')):\n",
    "    print(i.name)"
   ]
  },
  {
   "cell_type": "code",
   "execution_count": 62,
   "id": "0acb05a0",
   "metadata": {},
   "outputs": [
    {
     "name": "stdout",
     "output_type": "stream",
     "text": [
      "2022-09-08 06:47:40,223 INFO sqlalchemy.engine.Engine SELECT users.id AS users_id, users.name AS users_name, users.fullname AS users_fullname, users.nickname AS users_nickname \n",
      "FROM users \n",
      "WHERE lower(users.name) LIKE lower(?)\n",
      "2022-09-08 06:47:40,226 INFO sqlalchemy.engine.Engine [cached since 735.8s ago] ('%e%',)\n",
      "ed\n",
      "wendy\n",
      "fred\n"
     ]
    }
   ],
   "source": [
    "# Filtering with ilike which is used to compare rows to\n",
    "# see if a certain string in the function argument is in\n",
    "# the query\n",
    "for j in session.query(User).filter(User.name.ilike('%e%')):\n",
    "    print(j.name)"
   ]
  },
  {
   "cell_type": "code",
   "execution_count": 60,
   "id": "cd305bda",
   "metadata": {},
   "outputs": [
    {
     "name": "stdout",
     "output_type": "stream",
     "text": [
      "Filtering with a link\n",
      "2022-09-08 06:44:58,455 INFO sqlalchemy.engine.Engine SELECT users.id AS users_id, users.name AS users_name, users.fullname AS users_fullname, users.nickname AS users_nickname \n",
      "FROM users \n",
      "WHERE users.name IN (?, ?, ?)\n",
      "2022-09-08 06:44:58,456 INFO sqlalchemy.engine.Engine [cached since 2372s ago] ('ed', 'wendy', 'jack')\n",
      "<User(name=ed, fullname=Ed Jones, nickname=eddie)\n",
      "<User(name=wendy, fullname=Wendy Williams, nickname=windy)\n",
      "Filtering with in_ query inside a query\n",
      "2022-09-08 06:44:58,520 INFO sqlalchemy.engine.Engine SELECT users.id AS users_id, users.name AS users_name, users.fullname AS users_fullname, users.nickname AS users_nickname \n",
      "FROM users \n",
      "WHERE users.name IN (SELECT users.name \n",
      "FROM users \n",
      "WHERE users.name LIKE ?)\n",
      "2022-09-08 06:44:58,522 INFO sqlalchemy.engine.Engine [generated in 0.00191s] ('%e%',)\n",
      "ed\n",
      "wendy\n",
      "fred\n",
      "Filtering with a tuple_() function for composite columns\n",
      "2022-09-08 06:44:58,529 INFO sqlalchemy.engine.Engine SELECT users.id AS users_id, users.name AS users_name, users.fullname AS users_fullname, users.nickname AS users_nickname \n",
      "FROM users \n",
      "WHERE (users.name, users.nickname) IN (VALUES (?, ?), (?, ?))\n",
      "2022-09-08 06:44:58,531 INFO sqlalchemy.engine.Engine [generated in 0.00179s] ('ed', 'edsnickname', 'wendy', 'windy')\n",
      "<User(name=wendy, fullname=Wendy Williams, nickname=windy)\n"
     ]
    }
   ],
   "source": [
    "# Filtering with a normal List\n",
    "print(\"Filtering with a link\")\n",
    "for link in session.query(User).filter(User.name.in_(['ed', 'wendy', 'jack'])):\n",
    "    print(link)\n",
    "\n",
    "# Filtering with an in_ query inside another query\n",
    "print(\"Filtering with in_ query inside a query\")\n",
    "for i in session.query(User).filter(\n",
    "    User.name.in_(\n",
    "        session.query(User.name).filter(User.name.like('%e%'))\n",
    "    )\n",
    "):\n",
    "    print(i.name)\n",
    "    \n",
    "# Filtering with a tuple_() for composite (Multi-column) queries\n",
    "print(\"Filtering with a tuple_() function for composite columns\")\n",
    "for tup in session.query(User).filter(\n",
    "    tuple_(User.name, User.nickname).\\\n",
    "    in_([('ed', 'edsnickname'), ('wendy', 'windy')])\n",
    "):\n",
    "    print(tup)"
   ]
  },
  {
   "cell_type": "code",
   "execution_count": 76,
   "id": "7837114b",
   "metadata": {},
   "outputs": [
    {
     "name": "stdout",
     "output_type": "stream",
     "text": [
      "2022-09-08 07:06:36,059 INFO sqlalchemy.engine.Engine SELECT users.id AS users_id, users.name AS users_name, users.fullname AS users_fullname, users.nickname AS users_nickname \n",
      "FROM users \n",
      "WHERE (users.name NOT IN (?, ?, ?))\n",
      "2022-09-08 07:06:36,061 INFO sqlalchemy.engine.Engine [cached since 1057s ago] ('ed', 'wendy', 'jack')\n",
      "<User(name=mary, fullname=Mary Contrary, nickname=mary)\n",
      "<User(name=fred, fullname=Fred Flintstone, nickname=freddy)\n"
     ]
    }
   ],
   "source": [
    "# Using the notin function to filter a query\n",
    "for i in session.query(User).filter(~User.name.in_(['ed', 'wendy','jack'])):\n",
    "    print(i)"
   ]
  },
  {
   "cell_type": "code",
   "execution_count": 65,
   "id": "5bad0072",
   "metadata": {},
   "outputs": [
    {
     "name": "stdout",
     "output_type": "stream",
     "text": [
      "Using the == sign for is\n",
      "2022-09-08 06:52:33,008 INFO sqlalchemy.engine.Engine SELECT users.id AS users_id, users.name AS users_name, users.fullname AS users_fullname, users.nickname AS users_nickname \n",
      "FROM users \n",
      "WHERE users.name IS NULL\n",
      "2022-09-08 06:52:33,010 INFO sqlalchemy.engine.Engine [generated in 0.00259s] ()\n",
      "[]\n",
      "Using the is_ sign now\n",
      "2022-09-08 06:52:33,013 INFO sqlalchemy.engine.Engine SELECT users.id AS users_id, users.name AS users_name, users.fullname AS users_fullname, users.nickname AS users_nickname \n",
      "FROM users \n",
      "WHERE users.name IS NULL\n",
      "2022-09-08 06:52:33,015 INFO sqlalchemy.engine.Engine [cached since 0.007333s ago] ()\n",
      "[]\n"
     ]
    }
   ],
   "source": [
    "# Filtering using the is_ function\n",
    "jame = session.query(User).filter(User.name==None)\n",
    "print(\"Using the == sign for is\")\n",
    "print(jame.all())\n",
    "jame = session.query(User).filter(User.name.is_(None))\n",
    "print(\"Using the is_ sign now\")\n",
    "print(jame.all())"
   ]
  },
  {
   "cell_type": "code",
   "execution_count": 67,
   "id": "1719c5e1",
   "metadata": {},
   "outputs": [
    {
     "name": "stdout",
     "output_type": "stream",
     "text": [
      "Using the != sign for isnot\n",
      "2022-09-08 06:53:41,800 INFO sqlalchemy.engine.Engine SELECT users.id AS users_id, users.name AS users_name, users.fullname AS users_fullname, users.nickname AS users_nickname \n",
      "FROM users \n",
      "WHERE users.name IS NOT NULL\n",
      "2022-09-08 06:53:41,803 INFO sqlalchemy.engine.Engine [cached since 10.23s ago] ()\n",
      "[<User(name=ed, fullname=Ed Jones, nickname=eddie), <User(name=wendy, fullname=Wendy Williams, nickname=windy), <User(name=mary, fullname=Mary Contrary, nickname=mary), <User(name=fred, fullname=Fred Flintstone, nickname=freddy)]\n",
      "Using the isnot sign now\n",
      "2022-09-08 06:53:41,809 INFO sqlalchemy.engine.Engine SELECT users.id AS users_id, users.name AS users_name, users.fullname AS users_fullname, users.nickname AS users_nickname \n",
      "FROM users \n",
      "WHERE users.name IS NOT NULL\n",
      "2022-09-08 06:53:41,811 INFO sqlalchemy.engine.Engine [cached since 10.24s ago] ()\n",
      "[<User(name=ed, fullname=Ed Jones, nickname=eddie), <User(name=wendy, fullname=Wendy Williams, nickname=windy), <User(name=mary, fullname=Mary Contrary, nickname=mary), <User(name=fred, fullname=Fred Flintstone, nickname=freddy)]\n"
     ]
    }
   ],
   "source": [
    "# Filtering using the isnot function\n",
    "jame = session.query(User).filter(User.name!=None)\n",
    "print(\"Using the != sign for isnot\")\n",
    "print(jame.all())\n",
    "jame = session.query(User).filter(User.name.isnot(None))\n",
    "print(\"Using the isnot sign now\")\n",
    "print(jame.all())"
   ]
  },
  {
   "cell_type": "code",
   "execution_count": 72,
   "id": "0f1192a3",
   "metadata": {},
   "outputs": [
    {
     "name": "stdout",
     "output_type": "stream",
     "text": [
      "2022-09-08 07:04:37,294 INFO sqlalchemy.engine.Engine SELECT users.id AS users_id, users.name AS users_name, users.fullname AS users_fullname, users.nickname AS users_nickname \n",
      "FROM users \n",
      "WHERE users.name = ? AND users.fullname = ?\n",
      "2022-09-08 07:04:37,296 INFO sqlalchemy.engine.Engine [cached since 15.58s ago] ('ed', 'Ed Jones')\n",
      "[<User(name=ed, fullname=Ed Jones, nickname=eddie)]\n",
      "2022-09-08 07:04:37,299 INFO sqlalchemy.engine.Engine SELECT users.id AS users_id, users.name AS users_name, users.fullname AS users_fullname, users.nickname AS users_nickname \n",
      "FROM users \n",
      "WHERE users.name = ? AND users.fullname = ?\n",
      "2022-09-08 07:04:37,301 INFO sqlalchemy.engine.Engine [cached since 2378s ago] ('ed', 'Ed Jones')\n",
      "[<User(name=ed, fullname=Ed Jones, nickname=eddie)]\n",
      "2022-09-08 07:04:37,304 INFO sqlalchemy.engine.Engine SELECT users.id AS users_id, users.name AS users_name, users.fullname AS users_fullname, users.nickname AS users_nickname \n",
      "FROM users \n",
      "WHERE users.name = ? AND users.fullname = ?\n",
      "2022-09-08 07:04:37,306 INFO sqlalchemy.engine.Engine [cached since 2378s ago] ('ed', 'Ed Jones')\n",
      "[<User(name=ed, fullname=Ed Jones, nickname=eddie)]\n"
     ]
    }
   ],
   "source": [
    "# Filtering using the and_ command\n",
    "jame = session.query(User).filter(and_(User.name=='ed', User.fullname=='Ed Jones'))\n",
    "# Filtering by sending multiple expressions to the .filter function\n",
    "kame = session.query(User).filter(User.name=='ed', User.fullname=='Ed Jones')\n",
    "# Filtering by chaining multiple filter/filter_by functions\n",
    "lame = session.query(User).filter(User.name=='ed').filter(User.fullname=='Ed Jones')\n",
    "print(jame.all())\n",
    "print(kame.all())\n",
    "print(lame.all())"
   ]
  },
  {
   "cell_type": "code",
   "execution_count": 73,
   "id": "4ea21684",
   "metadata": {},
   "outputs": [
    {
     "name": "stdout",
     "output_type": "stream",
     "text": [
      "2022-09-08 07:06:03,649 INFO sqlalchemy.engine.Engine SELECT users.id AS users_id, users.name AS users_name, users.fullname AS users_fullname, users.nickname AS users_nickname \n",
      "FROM users \n",
      "WHERE users.name = ? OR users.name = ?\n",
      "2022-09-08 07:06:03,652 INFO sqlalchemy.engine.Engine [generated in 0.00246s] ('ed', 'Wendy')\n"
     ]
    },
    {
     "data": {
      "text/plain": [
       "[<User(name=ed, fullname=Ed Jones, nickname=eddie)]"
      ]
     },
     "execution_count": 73,
     "metadata": {},
     "output_type": "execute_result"
    }
   ],
   "source": [
    "# Filtering using the sqlalchemy or function\n",
    "jame = session.query(User).filter(or_(User.name=='ed', User.name=='Wendy'))\n",
    "jame.all()"
   ]
  },
  {
   "cell_type": "code",
   "execution_count": 80,
   "id": "f2a3ac44",
   "metadata": {},
   "outputs": [
    {
     "data": {
      "text/plain": [
       "'\\n    Filtering using the match function\\n    Match is used to display queries which contains the \\n    arguments in the match function\\n'"
      ]
     },
     "execution_count": 80,
     "metadata": {},
     "output_type": "execute_result"
    }
   ],
   "source": [
    "\"\"\"\n",
    "    Filtering using the match function\n",
    "    Match is used to display queries which contains the \n",
    "    arguments in the match function\n",
    "\"\"\"\n",
    "# jame = session.query(User).filter(User.name.match('wendy'))\n",
    "# jame.all()\n",
    "\n",
    "# This is not surpported in SQLite so it would not work"
   ]
  },
  {
   "cell_type": "code",
   "execution_count": null,
   "id": "614afdc2",
   "metadata": {},
   "outputs": [],
   "source": []
  }
 ],
 "metadata": {
  "kernelspec": {
   "display_name": "Python 3 (ipykernel)",
   "language": "python",
   "name": "python3"
  },
  "language_info": {
   "codemirror_mode": {
    "name": "ipython",
    "version": 3
   },
   "file_extension": ".py",
   "mimetype": "text/x-python",
   "name": "python",
   "nbconvert_exporter": "python",
   "pygments_lexer": "ipython3",
   "version": "3.9.2"
  }
 },
 "nbformat": 4,
 "nbformat_minor": 5
}
