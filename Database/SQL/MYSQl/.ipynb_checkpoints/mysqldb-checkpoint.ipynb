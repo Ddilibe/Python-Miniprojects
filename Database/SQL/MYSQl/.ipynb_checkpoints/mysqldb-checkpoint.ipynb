{
 "cells": [
  {
   "cell_type": "code",
   "execution_count": 16,
   "id": "4fa00e07",
   "metadata": {},
   "outputs": [],
   "source": [
    "import MySQLdb\n",
    "import sqlalchemy\n",
    "from sqlalchemy import create_engine\n",
    "from sqlalchemy.ext.declarative import declarative_base"
   ]
  },
  {
   "cell_type": "code",
   "execution_count": 15,
   "id": "d9b278af",
   "metadata": {},
   "outputs": [],
   "source": [
    "# connecting to the database\n",
    "engine = create_engine('mysql+mysqldb://{}:{}@localhost/{}'.format('root','', 'employee'), pool_pre_ping=True)\n",
    "\n",
    "# conn = MySQLdb.connect(host='localhost',port=3306,user='root', passwd='',db='employee',charset='utf8')\n",
    "# cur = conn.cursor()\n",
    "# help(MySQLdb)\n"
   ]
  },
  {
   "cell_type": "code",
   "execution_count": 17,
   "id": "0509cf79",
   "metadata": {},
   "outputs": [],
   "source": [
    "Base = declarative_base()"
   ]
  },
  {
   "cell_type": "code",
   "execution_count": null,
   "id": "4a8545c1",
   "metadata": {},
   "outputs": [],
   "source": []
  },
  {
   "cell_type": "code",
   "execution_count": null,
   "id": "07825128",
   "metadata": {},
   "outputs": [],
   "source": []
  },
  {
   "cell_type": "code",
   "execution_count": null,
   "id": "80671e29",
   "metadata": {},
   "outputs": [],
   "source": []
  }
 ],
 "metadata": {
  "kernelspec": {
   "display_name": "Python 3 (ipykernel)",
   "language": "python",
   "name": "python3"
  },
  "language_info": {
   "codemirror_mode": {
    "name": "ipython",
    "version": 3
   },
   "file_extension": ".py",
   "mimetype": "text/x-python",
   "name": "python",
   "nbconvert_exporter": "python",
   "pygments_lexer": "ipython3",
   "version": "3.9.2"
  }
 },
 "nbformat": 4,
 "nbformat_minor": 5
}
