{
 "cells": [
  {
   "cell_type": "markdown",
   "id": "c3b30ec5",
   "metadata": {},
   "source": [
    "Learing to use Javascript Object Notation (JSON)"
   ]
  },
  {
   "cell_type": "code",
   "execution_count": null,
   "id": "cca9ad05",
   "metadata": {},
   "outputs": [],
   "source": [
    "import json\n"
   ]
  },
  {
   "cell_type": "code",
   "execution_count": 23,
   "id": "87a702ce",
   "metadata": {},
   "outputs": [],
   "source": [
    "import json\n",
    "\n",
    "class MyClass:\n",
    "    \"\"\" My class\n",
    "    \"\"\"\n",
    "\n",
    "    score = 0\n",
    "\n",
    "    def __init__(self, name, number = 4):\n",
    "        self.__name = name\n",
    "        self.number = number\n",
    "        self.is_team_red = (self.number % 2) == 0\n",
    "\n",
    "    def win(self):\n",
    "        self.score += 1\n",
    "\n",
    "    def lose(self):\n",
    "        self.score -= 1\n",
    "\n",
    "    def __str__(self):\n",
    "        return \"[MyClass] {} - {:d} => {:d}\".format(self.__name, self.number, self.score)\n",
    "    \n",
    "    def string_to_json(self):\n",
    "        return json.dumps(self.__dict__)"
   ]
  },
  {
   "cell_type": "code",
   "execution_count": 21,
   "id": "277dd778",
   "metadata": {},
   "outputs": [
    {
     "data": {
      "text/plain": [
       "{'_MyClass__name': 'DAVID', 'number': 4, 'is_team_red': True}"
      ]
     },
     "execution_count": 21,
     "metadata": {},
     "output_type": "execute_result"
    }
   ],
   "source": [
    "a = MyClass(\"DAVID\")\n",
    "a.__dict__"
   ]
  },
  {
   "cell_type": "code",
   "execution_count": 24,
   "id": "ffecbf52",
   "metadata": {},
   "outputs": [
    {
     "data": {
      "text/plain": [
       "'{\"_MyClass__name\": \"DAVID\", \"number\": 4, \"is_team_red\": true}'"
      ]
     },
     "execution_count": 24,
     "metadata": {},
     "output_type": "execute_result"
    }
   ],
   "source": [
    "a.string_to_json()\n"
   ]
  },
  {
   "cell_type": "code",
   "execution_count": 33,
   "id": "d4aeb532",
   "metadata": {},
   "outputs": [
    {
     "name": "stdout",
     "output_type": "stream",
     "text": [
      "<_io.TextIOWrapper name='gooat.json' mode='a' encoding='cp1252'>\n"
     ]
    }
   ],
   "source": [
    "import json\n",
    "\n",
    "with open('gooat.json', 'a') as f:\n",
    "    print(f)"
   ]
  },
  {
   "cell_type": "markdown",
   "id": "8cce612e",
   "metadata": {},
   "source": [
    "Developing an algorithm for creating Paschal's Triangle"
   ]
  },
  {
   "cell_type": "code",
   "execution_count": 45,
   "id": "57d7167d",
   "metadata": {},
   "outputs": [],
   "source": [
    "def combination(x, y):\n",
    "    w = factorial(x - y)\n",
    "    y = factorial(y)\n",
    "    x = factorial(x)\n",
    "    ans = (x) / (y * w)\n",
    "    return (ans)\n",
    "\n",
    "def factorial(x):\n",
    "    if x == 1 or x == 0:\n",
    "        return (1)\n",
    "    return (x * factorial(x - 1))\n"
   ]
  },
  {
   "cell_type": "code",
   "execution_count": 41,
   "id": "27e70076",
   "metadata": {},
   "outputs": [
    {
     "data": {
      "text/plain": [
       "2.7963143931814662e+19"
      ]
     },
     "execution_count": 41,
     "metadata": {},
     "output_type": "execute_result"
    }
   ],
   "source": [
    "combination(70, 42)"
   ]
  },
  {
   "cell_type": "code",
   "execution_count": 53,
   "id": "ac0029bc",
   "metadata": {},
   "outputs": [],
   "source": [
    "\"\"\" Implementing Paschal's Triangle \"\"\"\n",
    "\n",
    "def pascal_triangle(n):\n",
    "    \"\"\" Function that returns a list of integers representing the\n",
    "    paschal's triangle of n\"\"\"\n",
    "    major_list = []\n",
    "    if n >= 0:\n",
    "        for i in range(n+1):\n",
    "            new_list = []\n",
    "            for j in range(i+1):\n",
    "                d = combination(i, j)\n",
    "                new_list.append(int(d))\n",
    "            major_list.append(new_list)\n",
    "    return (major_list)\n",
    "\n"
   ]
  },
  {
   "cell_type": "code",
   "execution_count": 56,
   "id": "77c34448",
   "metadata": {},
   "outputs": [
    {
     "name": "stdout",
     "output_type": "stream",
     "text": [
      "[1]\n",
      "[1,1]\n",
      "[1,2,1]\n",
      "[1,3,3,1]\n",
      "[1,4,6,4,1]\n",
      "[1,5,10,10,5,1]\n",
      "[1,6,15,20,15,6,1]\n",
      "[1,7,21,35,35,21,7,1]\n",
      "[1,8,28,56,70,56,28,8,1]\n",
      "[1,9,36,84,126,126,84,36,9,1]\n",
      "[1,10,45,120,210,252,210,120,45,10,1]\n",
      "[1,11,55,165,330,462,462,330,165,55,11,1]\n",
      "[1,12,66,220,495,792,924,792,495,220,66,12,1]\n",
      "[1,13,78,286,715,1287,1716,1716,1287,715,286,78,13,1]\n",
      "[1,14,91,364,1001,2002,3003,3432,3003,2002,1001,364,91,14,1]\n",
      "[1,15,105,455,1365,3003,5005,6435,6435,5005,3003,1365,455,105,15,1]\n",
      "[1,16,120,560,1820,4368,8008,11440,12870,11440,8008,4368,1820,560,120,16,1]\n",
      "[1,17,136,680,2380,6188,12376,19448,24310,24310,19448,12376,6188,2380,680,136,17,1]\n",
      "[1,18,153,816,3060,8568,18564,31824,43758,48620,43758,31824,18564,8568,3060,816,153,18,1]\n",
      "[1,19,171,969,3876,11628,27132,50388,75582,92378,92378,75582,50388,27132,11628,3876,969,171,19,1]\n",
      "[1,20,190,1140,4845,15504,38760,77520,125970,167960,184756,167960,125970,77520,38760,15504,4845,1140,190,20,1]\n"
     ]
    }
   ],
   "source": [
    "def print_triangle(triangle):\n",
    "    \"\"\"\n",
    "    Print the triangle\n",
    "    \"\"\"\n",
    "    for row in triangle:\n",
    "        print(\"[{}]\".format(\",\".join([str(x) for x in row])))\n",
    "\n",
    "\n",
    "if __name__ == \"__main__\":\n",
    "    print_triangle(pascal_triangle(20))"
   ]
  }
 ],
 "metadata": {
  "kernelspec": {
   "display_name": "Python 3 (ipykernel)",
   "language": "python",
   "name": "python3"
  },
  "language_info": {
   "codemirror_mode": {
    "name": "ipython",
    "version": 3
   },
   "file_extension": ".py",
   "mimetype": "text/x-python",
   "name": "python",
   "nbconvert_exporter": "python",
   "pygments_lexer": "ipython3",
   "version": "3.9.2"
  },
  "widgets": {
   "application/vnd.jupyter.widget-state+json": {
    "state": {},
    "version_major": 2,
    "version_minor": 0
   }
  }
 },
 "nbformat": 4,
 "nbformat_minor": 5
}
