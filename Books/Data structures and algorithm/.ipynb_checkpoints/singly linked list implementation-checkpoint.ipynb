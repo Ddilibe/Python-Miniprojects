{
 "cells": [
  {
   "cell_type": "markdown",
   "id": "8cb47dc5",
   "metadata": {},
   "source": [
    "# A simple Implementation of linked List Data Structure"
   ]
  },
  {
   "cell_type": "code",
   "execution_count": 11,
   "id": "8b75cabe",
   "metadata": {},
   "outputs": [],
   "source": [
    "class Node:\n",
    "    \"\"\"\n",
    "        A node blueprint for a linked list\n",
    "        \n",
    "        args:\n",
    "            @data: Data contained in the structure\n",
    "            @next: address of the next structure\n",
    "    \"\"\"\n",
    "    def __init__(self, data, next=None):\n",
    "        \"\"\" Method for initializing the data inputes \"\"\"\n",
    "        self.data = data\n",
    "        self.next = next\n",
    "\n",
    "class LinkedList:\n",
    "    \"\"\"\n",
    "        A Linked list structure containning just the head\n",
    "        \n",
    "        args:\n",
    "            @head: Contains the address of the head of the linked list\n",
    "    \"\"\"\n",
    "    def __init__(self, head=None):\n",
    "        \"\"\" Initialization Method for initializing the linked list\"\"\"\n",
    "        self.head = None\n",
    "        \n",
    "    def add_at_end(self, value):\n",
    "        \"\"\" Method that adds values at the end of the linked list\"\"\"\n",
    "        new = Node(value)\n",
    "        if(self.head == None):\n",
    "            self.head = new\n",
    "        else:\n",
    "            sent = self.head\n",
    "            while (sent != None):\n",
    "                done = sent\n",
    "                sent = sent.next\n",
    "            done.next = new\n",
    "    \n",
    "    def add_at_top(self, value):\n",
    "        \"\"\" Method that adds values to the top of the linked list \"\"\"\n",
    "        sent = self.head\n",
    "        new = Node(value)\n",
    "        self.head = new\n",
    "        new.next = sent\n",
    "        \n",
    "    def display(self):\n",
    "        \"\"\" Method for displaying the data stored in each node of the linked list\"\"\"\n",
    "        cash = self.head\n",
    "        while (cash != None):\n",
    "            print(cash.data)\n",
    "            cash = cash.next"
   ]
  },
  {
   "cell_type": "code",
   "execution_count": 12,
   "id": "3cf4fcf3",
   "metadata": {},
   "outputs": [
    {
     "ename": "NameError",
     "evalue": "name 'prev' is not defined",
     "output_type": "error",
     "traceback": [
      "\u001b[1;31m---------------------------------------------------------------------------\u001b[0m",
      "\u001b[1;31mNameError\u001b[0m                                 Traceback (most recent call last)",
      "Input \u001b[1;32mIn [12]\u001b[0m, in \u001b[0;36m<cell line: 2>\u001b[1;34m()\u001b[0m\n\u001b[0;32m      1\u001b[0m cast \u001b[38;5;241m=\u001b[39mLinkedList()\n\u001b[1;32m----> 2\u001b[0m \u001b[43mcast\u001b[49m\u001b[38;5;241;43m.\u001b[39;49m\u001b[43madd_at_end\u001b[49m\u001b[43m(\u001b[49m\u001b[38;5;124;43m\"\u001b[39;49m\u001b[38;5;124;43mPeople\u001b[39;49m\u001b[38;5;124;43m\"\u001b[39;49m\u001b[43m)\u001b[49m\n\u001b[0;32m      3\u001b[0m cast\u001b[38;5;241m.\u001b[39madd_at_end(\u001b[38;5;124m\"\u001b[39m\u001b[38;5;124mChapliancy\u001b[39m\u001b[38;5;124m\"\u001b[39m)\n\u001b[0;32m      4\u001b[0m cast\u001b[38;5;241m.\u001b[39madd_at_end(\u001b[38;5;124m\"\u001b[39m\u001b[38;5;124malgorithm\u001b[39m\u001b[38;5;124m\"\u001b[39m)\n",
      "Input \u001b[1;32mIn [11]\u001b[0m, in \u001b[0;36mLinkedList.add_at_end\u001b[1;34m(self, value)\u001b[0m\n\u001b[0;32m     26\u001b[0m \u001b[38;5;28;01mdef\u001b[39;00m \u001b[38;5;21madd_at_end\u001b[39m(\u001b[38;5;28mself\u001b[39m, value):\n\u001b[0;32m     27\u001b[0m     \u001b[38;5;124;03m\"\"\" Method that adds values at the end of the linked list\"\"\"\u001b[39;00m\n\u001b[1;32m---> 28\u001b[0m     new \u001b[38;5;241m=\u001b[39m \u001b[43mNode\u001b[49m\u001b[43m(\u001b[49m\u001b[43mvalue\u001b[49m\u001b[43m)\u001b[49m\n\u001b[0;32m     29\u001b[0m     \u001b[38;5;28;01mif\u001b[39;00m(\u001b[38;5;28mself\u001b[39m\u001b[38;5;241m.\u001b[39mhead \u001b[38;5;241m==\u001b[39m \u001b[38;5;28;01mNone\u001b[39;00m):\n\u001b[0;32m     30\u001b[0m         \u001b[38;5;28mself\u001b[39m\u001b[38;5;241m.\u001b[39mhead \u001b[38;5;241m=\u001b[39m new\n",
      "Input \u001b[1;32mIn [11]\u001b[0m, in \u001b[0;36mNode.__init__\u001b[1;34m(self, data)\u001b[0m\n\u001b[0;32m     11\u001b[0m \u001b[38;5;28mself\u001b[39m\u001b[38;5;241m.\u001b[39mdata \u001b[38;5;241m=\u001b[39m data\n\u001b[0;32m     12\u001b[0m \u001b[38;5;28mself\u001b[39m\u001b[38;5;241m.\u001b[39mnext \u001b[38;5;241m=\u001b[39m \u001b[38;5;28mnext\u001b[39m\n\u001b[1;32m---> 13\u001b[0m \u001b[38;5;28mself\u001b[39m\u001b[38;5;241m.\u001b[39mprev \u001b[38;5;241m=\u001b[39m \u001b[43mprev\u001b[49m\n",
      "\u001b[1;31mNameError\u001b[0m: name 'prev' is not defined"
     ]
    }
   ],
   "source": [
    "cast =LinkedList()\n",
    "cast.add_at_end(\"People\")\n",
    "cast.add_at_end(\"Chapliancy\")\n",
    "cast.add_at_end(\"algorithm\")\n",
    "cast.add_at_end(\"Beamer\")\n",
    "cast.add_at_end(\"Christmas\")\n",
    "cast.add_at_end(\"Salamander\")\n",
    "cast.add_at_end(\"Peace\")\n",
    "cast.add_at_end(\"Places\")\n",
    "cast.add_at_top(\"desktop\")\n",
    "cast.add_at_top(\"Lambourgini\")\n",
    "cast.display()"
   ]
  },
  {
   "cell_type": "raw",
   "id": "980db900",
   "metadata": {},
   "source": []
  }
 ],
 "metadata": {
  "kernelspec": {
   "display_name": "Python 3 (ipykernel)",
   "language": "python",
   "name": "python3"
  },
  "language_info": {
   "codemirror_mode": {
    "name": "ipython",
    "version": 3
   },
   "file_extension": ".py",
   "mimetype": "text/x-python",
   "name": "python",
   "nbconvert_exporter": "python",
   "pygments_lexer": "ipython3",
   "version": "3.9.2"
  }
 },
 "nbformat": 4,
 "nbformat_minor": 5
}
