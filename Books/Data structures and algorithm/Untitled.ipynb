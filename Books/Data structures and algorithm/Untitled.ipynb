{
 "cells": [
  {
   "cell_type": "code",
   "execution_count": 1,
   "id": "9c02a569",
   "metadata": {},
   "outputs": [],
   "source": [
    "class Node:\n",
    "    def __init__(self, data, next=None):\n",
    "        self.data = data\n",
    "        self.next = next\n",
    "\n",
    "class LinkedList:\n",
    "    def __init__(self, head=None):\n",
    "        self.head = None\n",
    "        \n",
    "    def add_at_end(self, value):\n",
    "        new = Node(value)\n",
    "        if(self.head == None):\n",
    "            self.head = new\n",
    "        else:\n",
    "            sent = self.head\n",
    "            while (sent != None):\n",
    "                sent = sent.next\n",
    "            sent.next = new\n",
    "    def display(self):\n",
    "        cash = self.head\n",
    "        while (cash != none):\n",
    "            print(cash.data)\n",
    "            cash = cash.next"
   ]
  },
  {
   "cell_type": "code",
   "execution_count": 2,
   "id": "0b9dcaee",
   "metadata": {},
   "outputs": [
    {
     "ename": "AttributeError",
     "evalue": "'NoneType' object has no attribute 'next'",
     "output_type": "error",
     "traceback": [
      "\u001b[1;31m---------------------------------------------------------------------------\u001b[0m",
      "\u001b[1;31mAttributeError\u001b[0m                            Traceback (most recent call last)",
      "Input \u001b[1;32mIn [2]\u001b[0m, in \u001b[0;36m<cell line: 3>\u001b[1;34m()\u001b[0m\n\u001b[0;32m      1\u001b[0m cast \u001b[38;5;241m=\u001b[39mLinkedList()\n\u001b[0;32m      2\u001b[0m cast\u001b[38;5;241m.\u001b[39madd_at_end(\u001b[38;5;124m\"\u001b[39m\u001b[38;5;124mPeople\u001b[39m\u001b[38;5;124m\"\u001b[39m)\n\u001b[1;32m----> 3\u001b[0m \u001b[43mcast\u001b[49m\u001b[38;5;241;43m.\u001b[39;49m\u001b[43madd_at_end\u001b[49m\u001b[43m(\u001b[49m\u001b[38;5;124;43m\"\u001b[39;49m\u001b[38;5;124;43mChapliancy\u001b[39;49m\u001b[38;5;124;43m\"\u001b[39;49m\u001b[43m)\u001b[49m\n\u001b[0;32m      4\u001b[0m cast\u001b[38;5;241m.\u001b[39madd_at_end(\u001b[38;5;124m\"\u001b[39m\u001b[38;5;124malgorithm\u001b[39m\u001b[38;5;124m\"\u001b[39m)\n\u001b[0;32m      5\u001b[0m cast\u001b[38;5;241m.\u001b[39madd_at_end(\u001b[38;5;124m\"\u001b[39m\u001b[38;5;124mBeamer\u001b[39m\u001b[38;5;124m\"\u001b[39m)\n",
      "Input \u001b[1;32mIn [1]\u001b[0m, in \u001b[0;36mLinkedList.add_at_end\u001b[1;34m(self, value)\u001b[0m\n\u001b[0;32m     16\u001b[0m \u001b[38;5;28;01mwhile\u001b[39;00m (sent \u001b[38;5;241m!=\u001b[39m \u001b[38;5;28;01mNone\u001b[39;00m):\n\u001b[0;32m     17\u001b[0m     sent \u001b[38;5;241m=\u001b[39m sent\u001b[38;5;241m.\u001b[39mnext\n\u001b[1;32m---> 18\u001b[0m sent\u001b[38;5;241m.\u001b[39mnext \u001b[38;5;241m=\u001b[39m new\n",
      "\u001b[1;31mAttributeError\u001b[0m: 'NoneType' object has no attribute 'next'"
     ]
    }
   ],
   "source": [
    "cast =LinkedList()\n",
    "cast.add_at_end(\"People\")\n",
    "cast.add_at_end(\"Chapliancy\")\n",
    "cast.add_at_end(\"algorithm\")\n",
    "cast.add_at_end(\"Beamer\")\n",
    "cast.add_at_end(\"Christmas\")\n",
    "cast.add_at_end(\"Salamander\")\n",
    "cast.add_at_end(\"Peace\")\n",
    "cast.add_at_end(\"Places\")\n",
    "cast.display()"
   ]
  },
  {
   "cell_type": "code",
   "execution_count": null,
   "id": "3ddf1fca",
   "metadata": {},
   "outputs": [],
   "source": []
  }
 ],
 "metadata": {
  "kernelspec": {
   "display_name": "Python 3 (ipykernel)",
   "language": "python",
   "name": "python3"
  },
  "language_info": {
   "codemirror_mode": {
    "name": "ipython",
    "version": 3
   },
   "file_extension": ".py",
   "mimetype": "text/x-python",
   "name": "python",
   "nbconvert_exporter": "python",
   "pygments_lexer": "ipython3",
   "version": "3.9.2"
  }
 },
 "nbformat": 4,
 "nbformat_minor": 5
}
