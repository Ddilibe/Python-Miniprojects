{
 "cells": [
  {
   "cell_type": "code",
   "execution_count": 3,
   "id": "79e75ebc",
   "metadata": {},
   "outputs": [
    {
     "ename": "ModuleNotFoundError",
     "evalue": "No module named 'sklearn'",
     "output_type": "error",
     "traceback": [
      "\u001b[1;31m---------------------------------------------------------------------------\u001b[0m",
      "\u001b[1;31mModuleNotFoundError\u001b[0m                       Traceback (most recent call last)",
      "Cell \u001b[1;32mIn[3], line 1\u001b[0m\n\u001b[1;32m----> 1\u001b[0m \u001b[38;5;28;01mfrom\u001b[39;00m \u001b[38;5;21;01msklearn\u001b[39;00m\u001b[38;5;21;01m.\u001b[39;00m\u001b[38;5;21;01mmodel_selection\u001b[39;00m \u001b[38;5;28;01mimport\u001b[39;00m train_test_split\n",
      "\u001b[1;31mModuleNotFoundError\u001b[0m: No module named 'sklearn'"
     ]
    }
   ],
   "source": [
    "from sklearn.model_selection import train_test_split"
   ]
  },
  {
   "cell_type": "code",
   "execution_count": 5,
   "id": "3e53a431",
   "metadata": {},
   "outputs": [
    {
     "name": "stdout",
     "output_type": "stream",
     "text": [
      "Requirement already satisfied: scikit-learn in c:\\users\\dilibe\\appdata\\local\\programs\\python\\python310\\lib\\site-packages (1.1.2)\n",
      "Requirement already satisfied: joblib>=1.0.0 in c:\\users\\dilibe\\appdata\\local\\programs\\python\\python310\\lib\\site-packages (from scikit-learn) (1.2.0)\n",
      "Requirement already satisfied: threadpoolctl>=2.0.0 in c:\\users\\dilibe\\appdata\\local\\programs\\python\\python310\\lib\\site-packages (from scikit-learn) (3.1.0)\n",
      "Requirement already satisfied: numpy>=1.17.3 in c:\\users\\dilibe\\appdata\\local\\programs\\python\\python310\\lib\\site-packages (from scikit-learn) (1.23.4)\n",
      "Requirement already satisfied: scipy>=1.3.2 in c:\\users\\dilibe\\appdata\\local\\programs\\python\\python310\\lib\\site-packages (from scikit-learn) (1.9.2)\n"
     ]
    },
    {
     "name": "stderr",
     "output_type": "stream",
     "text": [
      "\n",
      "[notice] A new release of pip available: 22.2.2 -> 23.3.2\n",
      "[notice] To update, run: python.exe -m pip install --upgrade pip\n"
     ]
    }
   ],
   "source": [
    "!pip install scikit-learn"
   ]
  },
  {
   "cell_type": "code",
   "execution_count": 6,
   "id": "ac87f1ab",
   "metadata": {},
   "outputs": [
    {
     "ename": "ModuleNotFoundError",
     "evalue": "No module named 'sklearn'",
     "output_type": "error",
     "traceback": [
      "\u001b[1;31m---------------------------------------------------------------------------\u001b[0m",
      "\u001b[1;31mModuleNotFoundError\u001b[0m                       Traceback (most recent call last)",
      "Cell \u001b[1;32mIn[6], line 1\u001b[0m\n\u001b[1;32m----> 1\u001b[0m \u001b[38;5;28;01mimport\u001b[39;00m \u001b[38;5;21;01msklearn\u001b[39;00m\n",
      "\u001b[1;31mModuleNotFoundError\u001b[0m: No module named 'sklearn'"
     ]
    }
   ],
   "source": [
    "import sklearn"
   ]
  },
  {
   "cell_type": "code",
   "execution_count": 7,
   "id": "382fc1f8",
   "metadata": {},
   "outputs": [
    {
     "name": "stdout",
     "output_type": "stream",
     "text": [
      "alembic==1.8.1\n",
      "altgraph==0.17.3\n",
      "anyio==3.6.2\n",
      "argon2-cffi==21.3.0\n",
      "argon2-cffi-bindings==21.2.0\n",
      "asgiref==3.5.2\n",
      "asttokens==2.1.0\n",
      "async-timeout==4.0.2\n",
      "attrs==19.3.0\n",
      "audio-metadata==0.11.1\n",
      "auto-py-to-exe==2.26.0\n",
      "azapi==3.0.8\n",
      "Babel==2.11.0\n",
      "backcall==0.2.0\n",
      "bcrypt==4.0.1\n",
      "beautifulsoup4==4.11.1\n",
      "bidict==0.22.0\n",
      "bitstruct==8.15.1\n",
      "black==23.1.0\n",
      "bleach==5.0.1\n",
      "blinker==1.5\n",
      "bottle==0.12.23\n",
      "bottle-websocket==0.2.9\n",
      "bs4==0.0.1\n",
      "cachelib==0.10.2\n",
      "cairocffi==1.4.0\n",
      "CairoSVG==2.6.0\n",
      "certifi==2022.9.24\n",
      "cffi==1.15.1\n",
      "charset-normalizer==2.1.1\n",
      "click==8.1.3\n",
      "colorama==0.4.5\n",
      "contourpy==1.1.1\n",
      "cssselect2==0.7.0\n",
      "cycler==0.12.0\n",
      "debugpy==1.6.3\n",
      "decorator==5.1.1\n",
      "defusedxml==0.7.1\n",
      "distlib==0.3.6\n",
      "Django==4.1.2\n",
      "docutils==0.19\n",
      "dominate==2.7.0\n",
      "Eel==0.14.0\n",
      "entrypoints==0.4\n",
      "executing==1.2.0\n",
      "fastjsonschema==2.16.2\n",
      "ffmpeg-python==0.2.0\n",
      "filelock==3.8.0\n",
      "flasgger==0.9.5\n",
      "Flask==2.2.2\n",
      "flask-babel==3.0.1\n",
      "Flask-Bootstrap==3.3.7.1\n",
      "Flask-Cors==3.0.10\n",
      "Flask-Login==0.6.2\n",
      "Flask-Mail==0.9.1\n",
      "Flask-Migrate==3.1.0\n",
      "Flask-Moment==1.0.5\n",
      "Flask-Session==0.4.0\n",
      "Flask-SQLAlchemy==3.0.2\n",
      "Flask-WTF==1.0.1\n",
      "fonttools==4.43.0\n",
      "future==0.18.2\n",
      "gevent==22.10.2\n",
      "gevent-websocket==0.10.1\n",
      "ghostscript==0.7\n",
      "greenlet==2.0.1\n",
      "gunicorn==20.1.0\n",
      "h11==0.14.0\n",
      "httpcore==0.16.2\n",
      "httpie==3.2.2\n",
      "httpx==0.23.1\n",
      "huggingface-hub==0.10.1\n",
      "idna==3.4\n",
      "ipykernel==6.17.1\n",
      "ipython==8.6.0\n",
      "ipython-genutils==0.2.0\n",
      "itsdangerous==2.1.2\n",
      "jedi==0.18.1\n",
      "Jinja2==3.1.2\n",
      "joblib==1.2.0\n",
      "jsonschema==4.16.0\n",
      "jupyter-server==1.23.1\n",
      "jupyter_client==7.4.5\n",
      "jupyter_core==5.0.0\n",
      "jupyterlab-pygments==0.2.2\n",
      "Kivy==2.1.0\n",
      "kivy-deps.angle==0.3.3\n",
      "kivy-deps.glew==0.3.1\n",
      "kivy-deps.sdl2==0.4.5\n",
      "Kivy-Garden==0.1.5\n",
      "kiwisolver==1.4.5\n",
      "legacy==0.1.6\n",
      "lxml==4.9.2\n",
      "Mako==1.2.3\n",
      "markdown-it-py==3.0.0\n",
      "MarkupSafe==2.1.1\n",
      "matplotlib==3.8.0\n",
      "matplotlib-inline==0.1.6\n",
      "mdurl==0.1.2\n",
      "mistune==2.0.4\n",
      "more-itertools==8.14.0\n",
      "mpmath==1.2.1\n",
      "multidict==6.0.4\n",
      "mutagen==1.46.0\n",
      "mypy==0.991\n",
      "mypy-extensions==0.4.3\n",
      "mysqlclient==2.1.1\n",
      "nbclassic==0.4.8\n",
      "nbclient==0.7.0\n",
      "nbconvert==7.2.4\n",
      "nbformat==5.7.0\n",
      "nest-asyncio==1.5.6\n",
      "notebook==6.5.2\n",
      "notebook_shim==0.2.2\n",
      "numpy==1.23.4\n",
      "opencv-python==4.6.0.66\n",
      "packaging==23.0\n",
      "Panda3D==1.10.13\n",
      "panda3d-gltf==0.14\n",
      "panda3d-simplepbr==0.10\n",
      "pandas==2.1.1\n",
      "pandocfilters==1.5.0\n",
      "parameterized==0.8.1\n",
      "parso==0.8.3\n",
      "pathlib2==2.3.7.post1\n",
      "pathspec==0.11.1\n",
      "pbr==5.11.1\n",
      "pefile==2022.5.30\n",
      "pendulum==2.1.2\n",
      "pep8==1.7.1\n",
      "pickleshare==0.7.5\n",
      "Pillow==9.3.0\n",
      "platformdirs==2.5.2\n",
      "pprintpp==0.4.0\n",
      "prometheus-client==0.15.0\n",
      "prompt-toolkit==3.0.32\n",
      "psutil==5.9.4\n",
      "pure-eval==0.2.2\n",
      "pycodestyle==2.9.1\n",
      "pycparser==2.21\n",
      "pygame==2.1.2\n",
      "Pygments==2.13.0\n",
      "pyinstaller==5.7.0\n",
      "pyinstaller-hooks-contrib==2022.14\n",
      "pyparsing==3.0.9\n",
      "PyPDF2==3.0.1\n",
      "pyperclip==1.8.2\n",
      "pypiwin32==223\n",
      "PyQt5==5.15.7\n",
      "PyQt5-Qt5==5.15.2\n",
      "PyQt5-sip==12.11.0\n",
      "pyrsistent==0.18.1\n",
      "PySide2==5.15.2.1\n",
      "PySocks==1.7.1\n",
      "python-dateutil==2.8.2\n",
      "python-magic==0.4.27\n",
      "python-magic-bin==0.4.14\n",
      "pytz==2022.7.1\n",
      "pytzdata==2020.1\n",
      "pywin32==305\n",
      "pywin32-ctypes==0.2.0\n",
      "pywinpty==2.0.9\n",
      "PyYAML==6.0\n",
      "pyzmq==24.0.1\n",
      "redis==4.3.5\n",
      "regex==2022.10.31\n",
      "reportlab==3.6.12\n",
      "requests==2.28.1\n",
      "requests-toolbelt==1.0.0\n",
      "rfc3986==1.5.0\n",
      "rich==13.5.2\n",
      "scikit-learn==1.1.2\n",
      "scipy==1.9.2\n",
      "seaborn==0.13.0\n",
      "Send2Trash==1.8.0\n",
      "shiboken2==5.15.2.1\n",
      "six==1.16.0\n",
      "sklearn==0.0\n",
      "sniffio==1.3.0\n",
      "soupsieve==2.3.2.post1\n",
      "spotipy==2.21.0\n",
      "SQLAlchemy==1.4.41\n",
      "SQLAlchemy-ImageAttach==1.1.0\n",
      "sqlalchemy-media==0.17.4\n",
      "sqlparse==0.4.3\n",
      "stack-data==0.6.0\n",
      "stevedore==4.1.1\n",
      "stripe==5.3.0\n",
      "svg-turtle==0.4.1\n",
      "svglib==1.5.1\n",
      "svgwrite==1.4.3\n",
      "sympy==1.11.1\n",
      "tbm-utils==2.6.0\n",
      "tekore==4.5.0\n",
      "terminado==0.17.0\n",
      "threadpoolctl==3.1.0\n",
      "tinycss2==1.2.1\n",
      "tinytag==1.8.1\n",
      "tokenizers==0.13.2\n",
      "tomli==2.0.1\n",
      "torch==1.13.0\n",
      "tornado==6.2\n",
      "tqdm==4.64.1\n",
      "traitlets==5.5.0\n",
      "transformers==4.24.0\n",
      "typing_extensions==4.4.0\n",
      "tzdata==2022.5\n",
      "urllib3==1.26.12\n",
      "ursina==5.2.0\n",
      "virtualenv==20.16.6\n",
      "virtualenv-clone==0.5.7\n",
      "virtualenvwrapper==4.8.4\n",
      "visitor==0.1.3\n",
      "Wand==0.6.11\n",
      "wcwidth==0.2.5\n",
      "webencodings==0.5.1\n",
      "websocket-client==1.4.2\n",
      "Werkzeug==2.2.2\n",
      "whichcraft==0.6.1\n",
      "whisper==1.0\n",
      "wrapt==1.14.1\n",
      "WTForms==3.0.1\n",
      "wxPython==4.2.0\n",
      "zope.event==4.5.0\n",
      "zope.interface==5.5.2\n"
     ]
    }
   ],
   "source": [
    "!pip freeze "
   ]
  },
  {
   "cell_type": "code",
   "execution_count": 8,
   "id": "76c431c5",
   "metadata": {},
   "outputs": [
    {
     "name": "stdout",
     "output_type": "stream",
     "text": [
      "Requirement already satisfied: numpy in c:\\users\\dilibe\\appdata\\local\\programs\\python\\python310\\lib\\site-packages (1.23.4)\n",
      "Requirement already satisfied: scipy in c:\\users\\dilibe\\appdata\\local\\programs\\python\\python310\\lib\\site-packages (1.9.2)\n",
      "Requirement already satisfied: matplotlib in c:\\users\\dilibe\\appdata\\local\\programs\\python\\python310\\lib\\site-packages (3.8.0)\n",
      "Requirement already satisfied: ipython in c:\\users\\dilibe\\appdata\\local\\programs\\python\\python310\\lib\\site-packages (8.6.0)\n",
      "Requirement already satisfied: scikit-learn in c:\\users\\dilibe\\appdata\\local\\programs\\python\\python310\\lib\\site-packages (1.1.2)\n",
      "Requirement already satisfied: pillow>=6.2.0 in c:\\users\\dilibe\\appdata\\local\\programs\\python\\python310\\lib\\site-packages (from matplotlib) (9.3.0)\n",
      "Requirement already satisfied: python-dateutil>=2.7 in c:\\users\\dilibe\\appdata\\local\\programs\\python\\python310\\lib\\site-packages (from matplotlib) (2.8.2)\n",
      "Requirement already satisfied: kiwisolver>=1.0.1 in c:\\users\\dilibe\\appdata\\local\\programs\\python\\python310\\lib\\site-packages (from matplotlib) (1.4.5)\n",
      "Requirement already satisfied: cycler>=0.10 in c:\\users\\dilibe\\appdata\\local\\programs\\python\\python310\\lib\\site-packages (from matplotlib) (0.12.0)\n",
      "Requirement already satisfied: contourpy>=1.0.1 in c:\\users\\dilibe\\appdata\\local\\programs\\python\\python310\\lib\\site-packages (from matplotlib) (1.1.1)\n",
      "Requirement already satisfied: pyparsing>=2.3.1 in c:\\users\\dilibe\\appdata\\local\\programs\\python\\python310\\lib\\site-packages (from matplotlib) (3.0.9)\n",
      "Requirement already satisfied: packaging>=20.0 in c:\\users\\dilibe\\appdata\\local\\programs\\python\\python310\\lib\\site-packages (from matplotlib) (23.0)\n",
      "Requirement already satisfied: fonttools>=4.22.0 in c:\\users\\dilibe\\appdata\\local\\programs\\python\\python310\\lib\\site-packages (from matplotlib) (4.43.0)\n",
      "Requirement already satisfied: backcall in c:\\users\\dilibe\\appdata\\local\\programs\\python\\python310\\lib\\site-packages (from ipython) (0.2.0)\n",
      "Requirement already satisfied: decorator in c:\\users\\dilibe\\appdata\\local\\programs\\python\\python310\\lib\\site-packages (from ipython) (5.1.1)\n",
      "Requirement already satisfied: jedi>=0.16 in c:\\users\\dilibe\\appdata\\local\\programs\\python\\python310\\lib\\site-packages (from ipython) (0.18.1)\n",
      "Requirement already satisfied: traitlets>=5 in c:\\users\\dilibe\\appdata\\local\\programs\\python\\python310\\lib\\site-packages (from ipython) (5.5.0)\n",
      "Requirement already satisfied: prompt-toolkit<3.1.0,>3.0.1 in c:\\users\\dilibe\\appdata\\local\\programs\\python\\python310\\lib\\site-packages (from ipython) (3.0.32)\n",
      "Requirement already satisfied: colorama in c:\\users\\dilibe\\appdata\\local\\programs\\python\\python310\\lib\\site-packages (from ipython) (0.4.5)\n",
      "Requirement already satisfied: stack-data in c:\\users\\dilibe\\appdata\\local\\programs\\python\\python310\\lib\\site-packages (from ipython) (0.6.0)\n",
      "Requirement already satisfied: pickleshare in c:\\users\\dilibe\\appdata\\local\\programs\\python\\python310\\lib\\site-packages (from ipython) (0.7.5)\n",
      "Requirement already satisfied: matplotlib-inline in c:\\users\\dilibe\\appdata\\local\\programs\\python\\python310\\lib\\site-packages (from ipython) (0.1.6)\n",
      "Requirement already satisfied: pygments>=2.4.0 in c:\\users\\dilibe\\appdata\\local\\programs\\python\\python310\\lib\\site-packages (from ipython) (2.13.0)\n",
      "Requirement already satisfied: joblib>=1.0.0 in c:\\users\\dilibe\\appdata\\local\\programs\\python\\python310\\lib\\site-packages (from scikit-learn) (1.2.0)\n",
      "Requirement already satisfied: threadpoolctl>=2.0.0 in c:\\users\\dilibe\\appdata\\local\\programs\\python\\python310\\lib\\site-packages (from scikit-learn) (3.1.0)\n",
      "Requirement already satisfied: parso<0.9.0,>=0.8.0 in c:\\users\\dilibe\\appdata\\local\\programs\\python\\python310\\lib\\site-packages (from jedi>=0.16->ipython) (0.8.3)\n",
      "Requirement already satisfied: wcwidth in c:\\users\\dilibe\\appdata\\local\\programs\\python\\python310\\lib\\site-packages (from prompt-toolkit<3.1.0,>3.0.1->ipython) (0.2.5)\n",
      "Requirement already satisfied: six>=1.5 in c:\\users\\dilibe\\appdata\\local\\programs\\python\\python310\\lib\\site-packages (from python-dateutil>=2.7->matplotlib) (1.16.0)\n",
      "Requirement already satisfied: pure-eval in c:\\users\\dilibe\\appdata\\local\\programs\\python\\python310\\lib\\site-packages (from stack-data->ipython) (0.2.2)\n",
      "Requirement already satisfied: asttokens>=2.1.0 in c:\\users\\dilibe\\appdata\\local\\programs\\python\\python310\\lib\\site-packages (from stack-data->ipython) (2.1.0)\n",
      "Requirement already satisfied: executing>=1.2.0 in c:\\users\\dilibe\\appdata\\local\\programs\\python\\python310\\lib\\site-packages (from stack-data->ipython) (1.2.0)\n"
     ]
    },
    {
     "name": "stderr",
     "output_type": "stream",
     "text": [
      "\n",
      "[notice] A new release of pip available: 22.2.2 -> 23.3.2\n",
      "[notice] To update, run: python.exe -m pip install --upgrade pip\n"
     ]
    }
   ],
   "source": [
    "!pip install numpy scipy matplotlib ipython scikit-learn"
   ]
  },
  {
   "cell_type": "code",
   "execution_count": 9,
   "id": "a06015e6",
   "metadata": {},
   "outputs": [
    {
     "ename": "ModuleNotFoundError",
     "evalue": "No module named 'panda'",
     "output_type": "error",
     "traceback": [
      "\u001b[1;31m---------------------------------------------------------------------------\u001b[0m",
      "\u001b[1;31mModuleNotFoundError\u001b[0m                       Traceback (most recent call last)",
      "Cell \u001b[1;32mIn[9], line 5\u001b[0m\n\u001b[0;32m      3\u001b[0m get_ipython()\u001b[38;5;241m.\u001b[39mrun_line_magic(\u001b[38;5;124m'\u001b[39m\u001b[38;5;124mmatplotlib\u001b[39m\u001b[38;5;124m'\u001b[39m, \u001b[38;5;124m'\u001b[39m\u001b[38;5;124minline\u001b[39m\u001b[38;5;124m'\u001b[39m)\n\u001b[0;32m      4\u001b[0m \u001b[38;5;28;01mimport\u001b[39;00m \u001b[38;5;21;01mmatplotlib\u001b[39;00m\u001b[38;5;21;01m.\u001b[39;00m\u001b[38;5;21;01mpyplot\u001b[39;00m \u001b[38;5;28;01mas\u001b[39;00m \u001b[38;5;21;01mplt\u001b[39;00m\n\u001b[1;32m----> 5\u001b[0m \u001b[38;5;28;01mimport\u001b[39;00m \u001b[38;5;21;01mpanda\u001b[39;00m \u001b[38;5;28;01mas\u001b[39;00m \u001b[38;5;21;01mpd\u001b[39;00m\n\u001b[0;32m      6\u001b[0m \u001b[38;5;28;01mimport\u001b[39;00m \u001b[38;5;21;01msklearn\u001b[39;00m\n",
      "\u001b[1;31mModuleNotFoundError\u001b[0m: No module named 'panda'"
     ]
    }
   ],
   "source": [
    "import numpy as np\n",
    "from scipy import sparse\n",
    "%matplotlib inline\n",
    "import matplotlib.pyplot as plt\n",
    "import pandas as pd\n",
    "import sklearn"
   ]
  },
  {
   "cell_type": "code",
   "execution_count": 10,
   "id": "f2089aca",
   "metadata": {},
   "outputs": [
    {
     "data": {
      "text/plain": [
       "<module 'scipy.sparse' from 'C:\\\\Users\\\\Dilibe\\\\Documents\\\\Projects\\\\Quantum\\\\env\\\\lib\\\\site-packages\\\\scipy\\\\sparse\\\\__init__.py'>"
      ]
     },
     "execution_count": 10,
     "metadata": {},
     "output_type": "execute_result"
    }
   ],
   "source": [
    "sparse"
   ]
  },
  {
   "cell_type": "code",
   "execution_count": 14,
   "id": "b98e23de",
   "metadata": {},
   "outputs": [],
   "source": [
    "import pandas as pd\n",
    "import sklearn"
   ]
  },
  {
   "cell_type": "code",
   "execution_count": 12,
   "id": "c5e8ce0d",
   "metadata": {},
   "outputs": [
    {
     "name": "stdout",
     "output_type": "stream",
     "text": [
      "Requirement already satisfied: scikit-learn in c:\\users\\dilibe\\appdata\\local\\programs\\python\\python310\\lib\\site-packages (1.1.2)\n",
      "Requirement already satisfied: joblib>=1.0.0 in c:\\users\\dilibe\\appdata\\local\\programs\\python\\python310\\lib\\site-packages (from scikit-learn) (1.2.0)\n",
      "Requirement already satisfied: threadpoolctl>=2.0.0 in c:\\users\\dilibe\\appdata\\local\\programs\\python\\python310\\lib\\site-packages (from scikit-learn) (3.1.0)\n",
      "Requirement already satisfied: numpy>=1.17.3 in c:\\users\\dilibe\\appdata\\local\\programs\\python\\python310\\lib\\site-packages (from scikit-learn) (1.23.4)\n",
      "Requirement already satisfied: scipy>=1.3.2 in c:\\users\\dilibe\\appdata\\local\\programs\\python\\python310\\lib\\site-packages (from scikit-learn) (1.9.2)\n"
     ]
    },
    {
     "name": "stderr",
     "output_type": "stream",
     "text": [
      "\n",
      "[notice] A new release of pip available: 22.2.2 -> 23.3.2\n",
      "[notice] To update, run: python.exe -m pip install --upgrade pip\n"
     ]
    }
   ],
   "source": [
    "!pip install scikit-learn"
   ]
  },
  {
   "cell_type": "code",
   "execution_count": 30,
   "id": "3ae4d73a",
   "metadata": {},
   "outputs": [],
   "source": [
    "# Using K-Nearest Neighbor (KNN) Algorithm for a Classification Problem"
   ]
  },
  {
   "cell_type": "code",
   "execution_count": 27,
   "id": "01f87b3d",
   "metadata": {},
   "outputs": [],
   "source": [
    "from sklearn.datasets import load_breast_cancer\n",
    "from sklearn.model_selection import train_test_split\n",
    "from sklearn.neighbors import KNeighborsClassifier"
   ]
  },
  {
   "cell_type": "code",
   "execution_count": 28,
   "id": "9522ae36",
   "metadata": {},
   "outputs": [],
   "source": [
    "cancer = load_breast_cancer()"
   ]
  },
  {
   "cell_type": "code",
   "execution_count": 29,
   "id": "fc6b3aec",
   "metadata": {},
   "outputs": [
    {
     "data": {
      "text/plain": [
       "<matplotlib.legend.Legend at 0x209ebcd9060>"
      ]
     },
     "execution_count": 29,
     "metadata": {},
     "output_type": "execute_result"
    },
    {
     "data": {
      "image/png": "[encoded data removed]",
      "text/plain": [
       "<Figure size 640x480 with 1 Axes>"
      ]
     },
     "metadata": {},
     "output_type": "display_data"
    }
   ],
   "source": [
    "x_train, x_test, y_train, y_test = train_test_split(cancer.data, cancer.target, stratify=cancer.target, random_state=66)\n",
    "training_accuracy, test_accuracy, neighbors_settings = [], [], range(1, 11)\n",
    "for n_neighbors in neighbors_settings:\n",
    "    clf = KNeighborsClassifier(n_neighbors=n_neighbors)\n",
    "    clf.fit(x_train, y_train)\n",
    "    training_accuracy.append(clf.score(x_train, y_train))\n",
    "    test_accuracy.append(clf.score(x_test, y_test))\n",
    "    \n",
    "plt.plot(neighbors_settings, training_accuracy, label=\"training accuracy\")\n",
    "plt.plot(neighbors_settings, test_accuracy, label=\"test accuracy\")\n",
    "plt.legend()"
   ]
  },
  {
   "cell_type": "code",
   "execution_count": 32,
   "id": "e5312243",
   "metadata": {},
   "outputs": [],
   "source": [
    "from sklearn.neighbors import KNeighborsRegressor"
   ]
  },
  {
   "cell_type": "code",
   "execution_count": 36,
   "id": "1a04b343",
   "metadata": {},
   "outputs": [
    {
     "data": {
      "text/html": [
       "<div>\n",
       "<style scoped>\n",
       "    .dataframe tbody tr th:only-of-type {\n",
       "        vertical-align: middle;\n",
       "    }\n",
       "\n",
       "    .dataframe tbody tr th {\n",
       "        vertical-align: top;\n",
       "    }\n",
       "\n",
       "    .dataframe thead th {\n",
       "        text-align: right;\n",
       "    }\n",
       "</style>\n",
       "<table border=\"1\" class=\"dataframe\">\n",
       "  <thead>\n",
       "    <tr style=\"text-align: right;\">\n",
       "      <th></th>\n",
       "      <th>0</th>\n",
       "      <th>1</th>\n",
       "      <th>2</th>\n",
       "      <th>3</th>\n",
       "      <th>4</th>\n",
       "      <th>5</th>\n",
       "      <th>6</th>\n",
       "      <th>7</th>\n",
       "      <th>8</th>\n",
       "      <th>9</th>\n",
       "      <th>...</th>\n",
       "      <th>20</th>\n",
       "      <th>21</th>\n",
       "      <th>22</th>\n",
       "      <th>23</th>\n",
       "      <th>24</th>\n",
       "      <th>25</th>\n",
       "      <th>26</th>\n",
       "      <th>27</th>\n",
       "      <th>28</th>\n",
       "      <th>29</th>\n",
       "    </tr>\n",
       "  </thead>\n",
       "  <tbody>\n",
       "    <tr>\n",
       "      <th>0</th>\n",
       "      <td>17.99</td>\n",
       "      <td>10.38</td>\n",
       "      <td>122.80</td>\n",
       "      <td>1001.0</td>\n",
       "      <td>0.11840</td>\n",
       "      <td>0.27760</td>\n",
       "      <td>0.3001</td>\n",
       "      <td>0.14710</td>\n",
       "      <td>0.2419</td>\n",
       "      <td>0.07871</td>\n",
       "      <td>...</td>\n",
       "      <td>25.38</td>\n",
       "      <td>17.33</td>\n",
       "      <td>184.60</td>\n",
       "      <td>2019.0</td>\n",
       "      <td>0.1622</td>\n",
       "      <td>0.6656</td>\n",
       "      <td>0.7119</td>\n",
       "      <td>0.2654</td>\n",
       "      <td>0.4601</td>\n",
       "      <td>0.11890</td>\n",
       "    </tr>\n",
       "    <tr>\n",
       "      <th>1</th>\n",
       "      <td>20.57</td>\n",
       "      <td>17.77</td>\n",
       "      <td>132.90</td>\n",
       "      <td>1326.0</td>\n",
       "      <td>0.08474</td>\n",
       "      <td>0.07864</td>\n",
       "      <td>0.0869</td>\n",
       "      <td>0.07017</td>\n",
       "      <td>0.1812</td>\n",
       "      <td>0.05667</td>\n",
       "      <td>...</td>\n",
       "      <td>24.99</td>\n",
       "      <td>23.41</td>\n",
       "      <td>158.80</td>\n",
       "      <td>1956.0</td>\n",
       "      <td>0.1238</td>\n",
       "      <td>0.1866</td>\n",
       "      <td>0.2416</td>\n",
       "      <td>0.1860</td>\n",
       "      <td>0.2750</td>\n",
       "      <td>0.08902</td>\n",
       "    </tr>\n",
       "    <tr>\n",
       "      <th>2</th>\n",
       "      <td>19.69</td>\n",
       "      <td>21.25</td>\n",
       "      <td>130.00</td>\n",
       "      <td>1203.0</td>\n",
       "      <td>0.10960</td>\n",
       "      <td>0.15990</td>\n",
       "      <td>0.1974</td>\n",
       "      <td>0.12790</td>\n",
       "      <td>0.2069</td>\n",
       "      <td>0.05999</td>\n",
       "      <td>...</td>\n",
       "      <td>23.57</td>\n",
       "      <td>25.53</td>\n",
       "      <td>152.50</td>\n",
       "      <td>1709.0</td>\n",
       "      <td>0.1444</td>\n",
       "      <td>0.4245</td>\n",
       "      <td>0.4504</td>\n",
       "      <td>0.2430</td>\n",
       "      <td>0.3613</td>\n",
       "      <td>0.08758</td>\n",
       "    </tr>\n",
       "    <tr>\n",
       "      <th>3</th>\n",
       "      <td>11.42</td>\n",
       "      <td>20.38</td>\n",
       "      <td>77.58</td>\n",
       "      <td>386.1</td>\n",
       "      <td>0.14250</td>\n",
       "      <td>0.28390</td>\n",
       "      <td>0.2414</td>\n",
       "      <td>0.10520</td>\n",
       "      <td>0.2597</td>\n",
       "      <td>0.09744</td>\n",
       "      <td>...</td>\n",
       "      <td>14.91</td>\n",
       "      <td>26.50</td>\n",
       "      <td>98.87</td>\n",
       "      <td>567.7</td>\n",
       "      <td>0.2098</td>\n",
       "      <td>0.8663</td>\n",
       "      <td>0.6869</td>\n",
       "      <td>0.2575</td>\n",
       "      <td>0.6638</td>\n",
       "      <td>0.17300</td>\n",
       "    </tr>\n",
       "    <tr>\n",
       "      <th>4</th>\n",
       "      <td>20.29</td>\n",
       "      <td>14.34</td>\n",
       "      <td>135.10</td>\n",
       "      <td>1297.0</td>\n",
       "      <td>0.10030</td>\n",
       "      <td>0.13280</td>\n",
       "      <td>0.1980</td>\n",
       "      <td>0.10430</td>\n",
       "      <td>0.1809</td>\n",
       "      <td>0.05883</td>\n",
       "      <td>...</td>\n",
       "      <td>22.54</td>\n",
       "      <td>16.67</td>\n",
       "      <td>152.20</td>\n",
       "      <td>1575.0</td>\n",
       "      <td>0.1374</td>\n",
       "      <td>0.2050</td>\n",
       "      <td>0.4000</td>\n",
       "      <td>0.1625</td>\n",
       "      <td>0.2364</td>\n",
       "      <td>0.07678</td>\n",
       "    </tr>\n",
       "  </tbody>\n",
       "</table>\n",
       "<p>5 rows × 30 columns</p>\n",
       "</div>"
      ],
      "text/plain": [
       "      0      1       2       3        4        5       6        7       8   \\\n",
       "0  17.99  10.38  122.80  1001.0  0.11840  0.27760  0.3001  0.14710  0.2419   \n",
       "1  20.57  17.77  132.90  1326.0  0.08474  0.07864  0.0869  0.07017  0.1812   \n",
       "2  19.69  21.25  130.00  1203.0  0.10960  0.15990  0.1974  0.12790  0.2069   \n",
       "3  11.42  20.38   77.58   386.1  0.14250  0.28390  0.2414  0.10520  0.2597   \n",
       "4  20.29  14.34  135.10  1297.0  0.10030  0.13280  0.1980  0.10430  0.1809   \n",
       "\n",
       "        9   ...     20     21      22      23      24      25      26      27  \\\n",
       "0  0.07871  ...  25.38  17.33  184.60  2019.0  0.1622  0.6656  0.7119  0.2654   \n",
       "1  0.05667  ...  24.99  23.41  158.80  1956.0  0.1238  0.1866  0.2416  0.1860   \n",
       "2  0.05999  ...  23.57  25.53  152.50  1709.0  0.1444  0.4245  0.4504  0.2430   \n",
       "3  0.09744  ...  14.91  26.50   98.87   567.7  0.2098  0.8663  0.6869  0.2575   \n",
       "4  0.05883  ...  22.54  16.67  152.20  1575.0  0.1374  0.2050  0.4000  0.1625   \n",
       "\n",
       "       28       29  \n",
       "0  0.4601  0.11890  \n",
       "1  0.2750  0.08902  \n",
       "2  0.3613  0.08758  \n",
       "3  0.6638  0.17300  \n",
       "4  0.2364  0.07678  \n",
       "\n",
       "[5 rows x 30 columns]"
      ]
     },
     "execution_count": 36,
     "metadata": {},
     "output_type": "execute_result"
    }
   ],
   "source": [
    "pd.DataFrame(cancer.data).head()"
   ]
  },
  {
   "cell_type": "code",
   "execution_count": null,
   "id": "bc3846c6",
   "metadata": {},
   "outputs": [],
   "source": []
  }
 ],
 "metadata": {
  "kernelspec": {
   "display_name": "env",
   "language": "python",
   "name": "env"
  },
  "language_info": {
   "codemirror_mode": {
    "name": "ipython",
    "version": 3
   },
   "file_extension": ".py",
   "mimetype": "text/x-python",
   "name": "python",
   "nbconvert_exporter": "python",
   "pygments_lexer": "ipython3",
   "version": "3.10.8"
  }
 },
 "nbformat": 4,
 "nbformat_minor": 5
}
