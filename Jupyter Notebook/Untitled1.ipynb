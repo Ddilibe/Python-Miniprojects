{
 "cells": [
  {
   "cell_type": "code",
   "execution_count": 8,
   "id": "915238ed",
   "metadata": {},
   "outputs": [],
   "source": [
    "# This will be the Imports cell\n",
    "from django.db import models"
   ]
  },
  {
   "cell_type": "code",
   "execution_count": 12,
   "id": "e995aba3",
   "metadata": {},
   "outputs": [
    {
     "ename": "ImproperlyConfigured",
     "evalue": "Requested setting INSTALLED_APPS, but settings are not configured. You must either define the environment variable DJANGO_SETTINGS_MODULE or call settings.configure() before accessing settings.",
     "output_type": "error",
     "traceback": [
      "\u001b[1;31m---------------------------------------------------------------------------\u001b[0m",
      "\u001b[1;31mImproperlyConfigured\u001b[0m                      Traceback (most recent call last)",
      "Input \u001b[1;32mIn [12]\u001b[0m, in \u001b[0;36m<cell line: 1>\u001b[1;34m()\u001b[0m\n\u001b[1;32m----> 1\u001b[0m \u001b[38;5;28;01mclass\u001b[39;00m \u001b[38;5;21;01mMan\u001b[39;00m(models\u001b[38;5;241m.\u001b[39mModel):\n\u001b[0;32m      2\u001b[0m     name \u001b[38;5;241m=\u001b[39m models\u001b[38;5;241m.\u001b[39mCharField(max_length\u001b[38;5;241m=\u001b[39m\u001b[38;5;241m300\u001b[39m)\n\u001b[0;32m      3\u001b[0m     age \u001b[38;5;241m=\u001b[39m models\u001b[38;5;241m.\u001b[39mPositiveIntegerField()\n",
      "File \u001b[1;32mc:\\users\\hp\\appdata\\local\\programs\\python\\python39-32\\lib\\site-packages\\django\\db\\models\\base.py:108\u001b[0m, in \u001b[0;36mModelBase.__new__\u001b[1;34m(cls, name, bases, attrs, **kwargs)\u001b[0m\n\u001b[0;32m    105\u001b[0m app_label \u001b[38;5;241m=\u001b[39m \u001b[38;5;28;01mNone\u001b[39;00m\n\u001b[0;32m    107\u001b[0m \u001b[38;5;66;03m# Look for an application configuration to attach the model to.\u001b[39;00m\n\u001b[1;32m--> 108\u001b[0m app_config \u001b[38;5;241m=\u001b[39m \u001b[43mapps\u001b[49m\u001b[38;5;241;43m.\u001b[39;49m\u001b[43mget_containing_app_config\u001b[49m\u001b[43m(\u001b[49m\u001b[43mmodule\u001b[49m\u001b[43m)\u001b[49m\n\u001b[0;32m    110\u001b[0m \u001b[38;5;28;01mif\u001b[39;00m \u001b[38;5;28mgetattr\u001b[39m(meta, \u001b[38;5;124m'\u001b[39m\u001b[38;5;124mapp_label\u001b[39m\u001b[38;5;124m'\u001b[39m, \u001b[38;5;28;01mNone\u001b[39;00m) \u001b[38;5;129;01mis\u001b[39;00m \u001b[38;5;28;01mNone\u001b[39;00m:\n\u001b[0;32m    111\u001b[0m     \u001b[38;5;28;01mif\u001b[39;00m app_config \u001b[38;5;129;01mis\u001b[39;00m \u001b[38;5;28;01mNone\u001b[39;00m:\n",
      "File \u001b[1;32mc:\\users\\hp\\appdata\\local\\programs\\python\\python39-32\\lib\\site-packages\\django\\apps\\registry.py:253\u001b[0m, in \u001b[0;36mApps.get_containing_app_config\u001b[1;34m(self, object_name)\u001b[0m\n\u001b[0;32m    244\u001b[0m \u001b[38;5;28;01mdef\u001b[39;00m \u001b[38;5;21mget_containing_app_config\u001b[39m(\u001b[38;5;28mself\u001b[39m, object_name):\n\u001b[0;32m    245\u001b[0m     \u001b[38;5;124;03m\"\"\"\u001b[39;00m\n\u001b[0;32m    246\u001b[0m \u001b[38;5;124;03m    Look for an app config containing a given object.\u001b[39;00m\n\u001b[0;32m    247\u001b[0m \n\u001b[1;32m   (...)\u001b[0m\n\u001b[0;32m    251\u001b[0m \u001b[38;5;124;03m    Return None if the object isn't in any registered app config.\u001b[39;00m\n\u001b[0;32m    252\u001b[0m \u001b[38;5;124;03m    \"\"\"\u001b[39;00m\n\u001b[1;32m--> 253\u001b[0m     \u001b[38;5;28;43mself\u001b[39;49m\u001b[38;5;241;43m.\u001b[39;49m\u001b[43mcheck_apps_ready\u001b[49m\u001b[43m(\u001b[49m\u001b[43m)\u001b[49m\n\u001b[0;32m    254\u001b[0m     candidates \u001b[38;5;241m=\u001b[39m []\n\u001b[0;32m    255\u001b[0m     \u001b[38;5;28;01mfor\u001b[39;00m app_config \u001b[38;5;129;01min\u001b[39;00m \u001b[38;5;28mself\u001b[39m\u001b[38;5;241m.\u001b[39mapp_configs\u001b[38;5;241m.\u001b[39mvalues():\n",
      "File \u001b[1;32mc:\\users\\hp\\appdata\\local\\programs\\python\\python39-32\\lib\\site-packages\\django\\apps\\registry.py:135\u001b[0m, in \u001b[0;36mApps.check_apps_ready\u001b[1;34m(self)\u001b[0m\n\u001b[0;32m    130\u001b[0m \u001b[38;5;28;01mfrom\u001b[39;00m \u001b[38;5;21;01mdjango\u001b[39;00m\u001b[38;5;21;01m.\u001b[39;00m\u001b[38;5;21;01mconf\u001b[39;00m \u001b[38;5;28;01mimport\u001b[39;00m settings\n\u001b[0;32m    132\u001b[0m \u001b[38;5;66;03m# If \"not ready\" is due to unconfigured settings, accessing\u001b[39;00m\n\u001b[0;32m    133\u001b[0m \u001b[38;5;66;03m# INSTALLED_APPS raises a more helpful ImproperlyConfigured\u001b[39;00m\n\u001b[0;32m    134\u001b[0m \u001b[38;5;66;03m# exception.\u001b[39;00m\n\u001b[1;32m--> 135\u001b[0m \u001b[43msettings\u001b[49m\u001b[38;5;241;43m.\u001b[39;49m\u001b[43mINSTALLED_APPS\u001b[49m\n\u001b[0;32m    136\u001b[0m \u001b[38;5;28;01mraise\u001b[39;00m AppRegistryNotReady(\u001b[38;5;124m\"\u001b[39m\u001b[38;5;124mApps aren\u001b[39m\u001b[38;5;124m'\u001b[39m\u001b[38;5;124mt loaded yet.\u001b[39m\u001b[38;5;124m\"\u001b[39m)\n",
      "File \u001b[1;32mc:\\users\\hp\\appdata\\local\\programs\\python\\python39-32\\lib\\site-packages\\django\\conf\\__init__.py:82\u001b[0m, in \u001b[0;36mLazySettings.__getattr__\u001b[1;34m(self, name)\u001b[0m\n\u001b[0;32m     80\u001b[0m \u001b[38;5;124;03m\"\"\"Return the value of a setting and cache it in self.__dict__.\"\"\"\u001b[39;00m\n\u001b[0;32m     81\u001b[0m \u001b[38;5;28;01mif\u001b[39;00m \u001b[38;5;28mself\u001b[39m\u001b[38;5;241m.\u001b[39m_wrapped \u001b[38;5;129;01mis\u001b[39;00m empty:\n\u001b[1;32m---> 82\u001b[0m     \u001b[38;5;28;43mself\u001b[39;49m\u001b[38;5;241;43m.\u001b[39;49m\u001b[43m_setup\u001b[49m\u001b[43m(\u001b[49m\u001b[43mname\u001b[49m\u001b[43m)\u001b[49m\n\u001b[0;32m     83\u001b[0m val \u001b[38;5;241m=\u001b[39m \u001b[38;5;28mgetattr\u001b[39m(\u001b[38;5;28mself\u001b[39m\u001b[38;5;241m.\u001b[39m_wrapped, name)\n\u001b[0;32m     85\u001b[0m \u001b[38;5;66;03m# Special case some settings which require further modification.\u001b[39;00m\n\u001b[0;32m     86\u001b[0m \u001b[38;5;66;03m# This is done here for performance reasons so the modified value is cached.\u001b[39;00m\n",
      "File \u001b[1;32mc:\\users\\hp\\appdata\\local\\programs\\python\\python39-32\\lib\\site-packages\\django\\conf\\__init__.py:63\u001b[0m, in \u001b[0;36mLazySettings._setup\u001b[1;34m(self, name)\u001b[0m\n\u001b[0;32m     61\u001b[0m \u001b[38;5;28;01mif\u001b[39;00m \u001b[38;5;129;01mnot\u001b[39;00m settings_module:\n\u001b[0;32m     62\u001b[0m     desc \u001b[38;5;241m=\u001b[39m (\u001b[38;5;124m\"\u001b[39m\u001b[38;5;124msetting \u001b[39m\u001b[38;5;132;01m%s\u001b[39;00m\u001b[38;5;124m\"\u001b[39m \u001b[38;5;241m%\u001b[39m name) \u001b[38;5;28;01mif\u001b[39;00m name \u001b[38;5;28;01melse\u001b[39;00m \u001b[38;5;124m\"\u001b[39m\u001b[38;5;124msettings\u001b[39m\u001b[38;5;124m\"\u001b[39m\n\u001b[1;32m---> 63\u001b[0m     \u001b[38;5;28;01mraise\u001b[39;00m ImproperlyConfigured(\n\u001b[0;32m     64\u001b[0m         \u001b[38;5;124m\"\u001b[39m\u001b[38;5;124mRequested \u001b[39m\u001b[38;5;132;01m%s\u001b[39;00m\u001b[38;5;124m, but settings are not configured. \u001b[39m\u001b[38;5;124m\"\u001b[39m\n\u001b[0;32m     65\u001b[0m         \u001b[38;5;124m\"\u001b[39m\u001b[38;5;124mYou must either define the environment variable \u001b[39m\u001b[38;5;132;01m%s\u001b[39;00m\u001b[38;5;124m \u001b[39m\u001b[38;5;124m\"\u001b[39m\n\u001b[0;32m     66\u001b[0m         \u001b[38;5;124m\"\u001b[39m\u001b[38;5;124mor call settings.configure() before accessing settings.\u001b[39m\u001b[38;5;124m\"\u001b[39m\n\u001b[0;32m     67\u001b[0m         \u001b[38;5;241m%\u001b[39m (desc, ENVIRONMENT_VARIABLE))\n\u001b[0;32m     69\u001b[0m \u001b[38;5;28mself\u001b[39m\u001b[38;5;241m.\u001b[39m_wrapped \u001b[38;5;241m=\u001b[39m Settings(settings_module)\n",
      "\u001b[1;31mImproperlyConfigured\u001b[0m: Requested setting INSTALLED_APPS, but settings are not configured. You must either define the environment variable DJANGO_SETTINGS_MODULE or call settings.configure() before accessing settings."
     ]
    }
   ],
   "source": [
    "class Man(models.Model):\n",
    "    name = models.CharField(max_length=300)\n",
    "    age = models.PositiveIntegerField()\n",
    "    color = models.CharField(max_length=300)"
   ]
  },
  {
   "cell_type": "code",
   "execution_count": 11,
   "id": "0977dba0",
   "metadata": {},
   "outputs": [
    {
     "ename": "NameError",
     "evalue": "name 'Man' is not defined",
     "output_type": "error",
     "traceback": [
      "\u001b[1;31m---------------------------------------------------------------------------\u001b[0m",
      "\u001b[1;31mNameError\u001b[0m                                 Traceback (most recent call last)",
      "Input \u001b[1;32mIn [11]\u001b[0m, in \u001b[0;36m<cell line: 1>\u001b[1;34m()\u001b[0m\n\u001b[1;32m----> 1\u001b[0m \u001b[38;5;28;01mclass\u001b[39;00m \u001b[38;5;21;01mParts\u001b[39;00m(models\u001b[38;5;241m.\u001b[39mModel):\n\u001b[0;32m      2\u001b[0m     lead \u001b[38;5;241m=\u001b[39m models\u001b[38;5;241m.\u001b[39mForeignKey(Man, on_delete\u001b[38;5;241m=\u001b[39mmodels\u001b[38;5;241m.\u001b[39mCASCADE)\n\u001b[0;32m      3\u001b[0m     line_number \u001b[38;5;241m=\u001b[39m models\u001b[38;5;241m.\u001b[39mPositiveIntegerField()\n",
      "Input \u001b[1;32mIn [11]\u001b[0m, in \u001b[0;36mParts\u001b[1;34m()\u001b[0m\n\u001b[0;32m      1\u001b[0m \u001b[38;5;28;01mclass\u001b[39;00m \u001b[38;5;21;01mParts\u001b[39;00m(models\u001b[38;5;241m.\u001b[39mModel):\n\u001b[1;32m----> 2\u001b[0m     lead \u001b[38;5;241m=\u001b[39m models\u001b[38;5;241m.\u001b[39mForeignKey(\u001b[43mMan\u001b[49m, on_delete\u001b[38;5;241m=\u001b[39mmodels\u001b[38;5;241m.\u001b[39mCASCADE)\n\u001b[0;32m      3\u001b[0m     line_number \u001b[38;5;241m=\u001b[39m models\u001b[38;5;241m.\u001b[39mPositiveIntegerField()\n\u001b[0;32m      4\u001b[0m     ordering \u001b[38;5;241m=\u001b[39m \u001b[38;5;28mself\u001b[39m\u001b[38;5;241m.\u001b[39madd_line_number()\n",
      "\u001b[1;31mNameError\u001b[0m: name 'Man' is not defined"
     ]
    }
   ],
   "source": [
    "class Parts(models.Model):\n",
    "    lead = models.ForeignKey(Man, on_delete=models.CASCADE)\n",
    "    line_number = models.PositiveIntegerField()\n",
    "    ordering = self.add_line_number()\n",
    "    \n",
    "    class Meta:\n",
    "        ordering = ['ordering']\n",
    "    \n",
    "    def add_line_number(self):\n",
    "        w = Man.objects.get(lead.id)\n",
    "        w = w.parts.objects.all()        \n",
    "        if len(w) > 0:\n",
    "            return len(w)+1\n",
    "        else:\n",
    "            return 1"
   ]
  },
  {
   "cell_type": "code",
   "execution_count": 10,
   "id": "c8e2ba69",
   "metadata": {},
   "outputs": [
    {
     "data": {
      "text/plain": [
       "['__class__',\n",
       " '__copy__',\n",
       " '__deepcopy__',\n",
       " '__delattr__',\n",
       " '__dict__',\n",
       " '__dir__',\n",
       " '__doc__',\n",
       " '__eq__',\n",
       " '__format__',\n",
       " '__ge__',\n",
       " '__getattribute__',\n",
       " '__gt__',\n",
       " '__hash__',\n",
       " '__init__',\n",
       " '__init_subclass__',\n",
       " '__le__',\n",
       " '__lt__',\n",
       " '__module__',\n",
       " '__ne__',\n",
       " '__new__',\n",
       " '__reduce__',\n",
       " '__reduce_ex__',\n",
       " '__repr__',\n",
       " '__setattr__',\n",
       " '__sizeof__',\n",
       " '__str__',\n",
       " '__subclasshook__',\n",
       " '__weakref__',\n",
       " '_check_backend_specific_checks',\n",
       " '_check_choices',\n",
       " '_check_db_index',\n",
       " '_check_deprecation_details',\n",
       " '_check_field_name',\n",
       " '_check_max_length_warning',\n",
       " '_check_null_allowed_for_primary_keys',\n",
       " '_check_validators',\n",
       " '_choices_is_value',\n",
       " '_clear_cached_lookups',\n",
       " '_description',\n",
       " '_get_default',\n",
       " '_get_flatchoices',\n",
       " '_get_lookup',\n",
       " '_unregister_lookup',\n",
       " 'auto_creation_counter',\n",
       " 'cached_col',\n",
       " 'cast_db_type',\n",
       " 'check',\n",
       " 'class_lookups',\n",
       " 'clean',\n",
       " 'clone',\n",
       " 'contribute_to_class',\n",
       " 'creation_counter',\n",
       " 'db_check',\n",
       " 'db_parameters',\n",
       " 'db_returning',\n",
       " 'db_tablespace',\n",
       " 'db_type',\n",
       " 'db_type_parameters',\n",
       " 'db_type_suffix',\n",
       " 'deconstruct',\n",
       " 'default_error_messages',\n",
       " 'default_validators',\n",
       " 'description',\n",
       " 'descriptor_class',\n",
       " 'empty_strings_allowed',\n",
       " 'empty_values',\n",
       " 'flatchoices',\n",
       " 'formfield',\n",
       " 'get_attname',\n",
       " 'get_attname_column',\n",
       " 'get_choices',\n",
       " 'get_col',\n",
       " 'get_db_converters',\n",
       " 'get_db_prep_save',\n",
       " 'get_db_prep_value',\n",
       " 'get_default',\n",
       " 'get_filter_kwargs_for_object',\n",
       " 'get_internal_type',\n",
       " 'get_lookup',\n",
       " 'get_lookups',\n",
       " 'get_pk_value_on_save',\n",
       " 'get_prep_value',\n",
       " 'get_transform',\n",
       " 'has_default',\n",
       " 'hidden',\n",
       " 'integer_field_class',\n",
       " 'many_to_many',\n",
       " 'many_to_one',\n",
       " 'merge_dicts',\n",
       " 'one_to_many',\n",
       " 'one_to_one',\n",
       " 'pre_save',\n",
       " 'register_lookup',\n",
       " 'rel_db_type',\n",
       " 'related_model',\n",
       " 'run_validators',\n",
       " 'save_form_data',\n",
       " 'select_format',\n",
       " 'set_attributes_from_name',\n",
       " 'system_check_deprecated_details',\n",
       " 'system_check_removed_details',\n",
       " 'to_python',\n",
       " 'unique',\n",
       " 'validate',\n",
       " 'validators',\n",
       " 'value_from_object',\n",
       " 'value_to_string']"
      ]
     },
     "execution_count": 10,
     "metadata": {},
     "output_type": "execute_result"
    }
   ],
   "source": [
    "dir(models.PositiveIntegerField)"
   ]
  },
  {
   "cell_type": "code",
   "execution_count": null,
   "id": "4812628b",
   "metadata": {},
   "outputs": [],
   "source": []
  }
 ],
 "metadata": {
  "kernelspec": {
   "display_name": "Python 3 (ipykernel)",
   "language": "python",
   "name": "python3"
  },
  "language_info": {
   "codemirror_mode": {
    "name": "ipython",
    "version": 3
   },
   "file_extension": ".py",
   "mimetype": "text/x-python",
   "name": "python",
   "nbconvert_exporter": "python",
   "pygments_lexer": "ipython3",
   "version": "3.9.2"
  }
 },
 "nbformat": 4,
 "nbformat_minor": 5
}
