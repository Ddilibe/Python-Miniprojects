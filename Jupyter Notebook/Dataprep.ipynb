{
 "cells": [
  {
   "cell_type": "code",
   "execution_count": 1,
   "id": "eb74891b",
   "metadata": {},
   "outputs": [],
   "source": [
    "import json\n",
    "import random\n",
    "from datetime import date, timedelta\n",
    "import faker"
   ]
  },
  {
   "cell_type": "code",
   "execution_count": 2,
   "id": "669af572",
   "metadata": {},
   "outputs": [],
   "source": [
    "fake = faker.Faker()\n"
   ]
  },
  {
   "cell_type": "code",
   "execution_count": 3,
   "id": "5ebe367d",
   "metadata": {},
   "outputs": [],
   "source": [
    "usernames = set()\n",
    "usernames_no = 1000\n",
    "\n",
    "# populate the set with 100 unique username\n",
    "while len(usernames) < usernames_no:\n",
    "    usernames.add(fake.user_name())"
   ]
  },
  {
   "cell_type": "code",
   "execution_count": 6,
   "id": "333adb19",
   "metadata": {},
   "outputs": [
    {
     "data": {
      "text/plain": [
       "['{\"username\": \"gparks\", \"name\": \"Becky Williamson\", \"gender\": \"F\", \"email\": \"clementscaitlin@example.net\", \"age\": 34, \"address\": \"2000 Thomas Locks\\\\nNicholsstad, GA 57596\"}',\n",
       " '{\"username\": \"johnsonjanice\", \"name\": \"Joseph Coleman\", \"gender\": \"M\", \"email\": \"gwhite@example.org\", \"age\": 74, \"address\": \"9685 Strong Village\\\\nNew Morgan, AK 50653\"}',\n",
       " '{\"username\": \"lisa03\", \"name\": \"Walter Carroll\", \"gender\": \"M\", \"email\": \"jennifer35@example.net\", \"age\": 19, \"address\": \"PSC 6128, Box 3903\\\\nAPO AE 11812\"}']"
      ]
     },
     "execution_count": 6,
     "metadata": {},
     "output_type": "execute_result"
    }
   ],
   "source": [
    "def get_random_name_and_gender():\n",
    "    skew = .6 # 80% of user will be female\n",
    "    male = random.random() > skew\n",
    "    if male:\n",
    "        return fake.name_male(), 'M'\n",
    "    else:\n",
    "        return fake.name_female(), 'F'\n",
    "    \n",
    "def get_users(usernames):\n",
    "    users = []\n",
    "    for username in usernames:\n",
    "        name, gender = get_random_name_and_gender()\n",
    "        user = {\n",
    "            'username':username,\n",
    "            'name':name,\n",
    "            'gender':gender,\n",
    "            'email':fake.email(),\n",
    "            'age':fake.random_int(min=18, max=90),\n",
    "            'address':fake.address(),\n",
    "        }\n",
    "        users.append(json.dumps(user))\n",
    "    return users    \n",
    "\n",
    "user = get_users(usernames)\n",
    "user[:3]"
   ]
  },
  {
   "cell_type": "code",
   "execution_count": 16,
   "id": "d6251bc1",
   "metadata": {},
   "outputs": [],
   "source": [
    "# Campaign name format:\n",
    "# InternalType_StartDate_EndDate_TargetAge_TargetGender_Currency\n",
    "\n",
    "def get_type():\n",
    "    # Just some gibberish internal codes\n",
    "    types = ['AKX', 'BYU', 'GRZ', 'KTR']\n",
    "    return random.choice(types)\n",
    "\n",
    "def get_start_end_dates():\n",
    "    # Function used to calculate the duration of the campaign in days\n",
    "    duration = random.randint(1, 2 * 365)\n",
    "    offset = random.randint(-365, 365)\n",
    "    start = date.today() - timedelta(days=offset)\n",
    "    end = start + timedelta(days=duration)\n",
    "    \n",
    "    def _format_date(date_):\n",
    "        return date_.strftime(\"%Y%m%d\")\n",
    "    return _format_date(start), _format_date(end)\n",
    "\n",
    "def get_age():\n",
    "    age = random.randrange(20, 46, 5)\n",
    "    diff = random.randrange(5, 26, 5)\n",
    "    return '{}-{}'.format(age, age + diff)\n",
    "\n",
    "def get_currency():\n",
    "    return random.choice(('GBP', 'EUR', 'USD'))\n",
    "\n",
    "def get_gender():\n",
    "    return random.choice(('M', 'F', 'B'))\n",
    "\n",
    "def get_campaign_name():\n",
    "    separator = '_'\n",
    "    type_ = get_type()\n",
    "    start, end = get_start_end_dates()\n",
    "    age = get_age()\n",
    "    gender = get_gender()\n",
    "    currency = get_currency()\n",
    "    return separator.join(\n",
    "        (type_, start, end, age, gender, currency))"
   ]
  },
  {
   "cell_type": "code",
   "execution_count": 17,
   "id": "8bdad42d",
   "metadata": {},
   "outputs": [],
   "source": [
    "# Campaign Data:\n",
    "# name, budget, spent, clicks, impressions\n",
    "\n",
    "def get_campaign_data():\n",
    "    \"\"\"\n",
    "        Function for getting the campaign data\n",
    "        args:\n",
    "            @name: Name of the campaign\n",
    "            @budget: Total amount of money allocated to the campaign\n",
    "            @spent: Total amount of money which has been spent\n",
    "            @clicks: Number of clicks on a campaign advertisment\n",
    "            @impressions: Total amount of time the campign has been fetch as a resource regardless of the numbers of clicks\n",
    "    \"\"\"\n",
    "    name = get_campaign_name()\n",
    "    budget = random.randint(10**3, 10**6)\n",
    "    spent = random.randint(10**2, budget)\n",
    "    clicks = int(random.triangular(10**2, 10**5, 0.2* 10**5))\n",
    "    impressions = int(random.gauss(0.5 * 10**6, 2))\n",
    "    return {\n",
    "        'cmp_name':name,\n",
    "        'cmp_bgt':budget,\n",
    "        'cmp_spent':spent,\n",
    "        'cmp_clicks':clicks,\n",
    "        'cmp_impr':impressions\n",
    "    }"
   ]
  },
  {
   "cell_type": "code",
   "execution_count": 18,
   "id": "59e43479",
   "metadata": {},
   "outputs": [],
   "source": [
    "def get_data(users):\n",
    "    data = []\n",
    "    for user in users:\n",
    "        campaigns = [\n",
    "            get_campaign_data()\n",
    "            for _ in range(random.randint(2, 8))\n",
    "        ]\n",
    "        data.append({'user':user, 'campaigns':campaigns})\n",
    "    return data"
   ]
  },
  {
   "cell_type": "code",
   "execution_count": 19,
   "id": "3278eca8",
   "metadata": {},
   "outputs": [
    {
     "data": {
      "text/plain": [
       "[{'user': '{\"username\": \"gparks\", \"name\": \"Becky Williamson\", \"gender\": \"F\", \"email\": \"clementscaitlin@example.net\", \"age\": 34, \"address\": \"2000 Thomas Locks\\\\nNicholsstad, GA 57596\"}',\n",
       "  'campaigns': [{'cmp_name': 'GRZ_20220709_20220727_35-40_F_EUR',\n",
       "    'cmp_bgt': 59433,\n",
       "    'cmp_spent': 24647,\n",
       "    'cmp_clicks': 31515,\n",
       "    'cmp_impr': 500001},\n",
       "   {'cmp_name': 'AKX_20211015_20221217_30-45_F_USD',\n",
       "    'cmp_bgt': 69479,\n",
       "    'cmp_spent': 35410,\n",
       "    'cmp_clicks': 30102,\n",
       "    'cmp_impr': 499997},\n",
       "   {'cmp_name': 'BYU_20220513_20230414_45-50_B_GBP',\n",
       "    'cmp_bgt': 860969,\n",
       "    'cmp_spent': 119913,\n",
       "    'cmp_clicks': 25507,\n",
       "    'cmp_impr': 500002},\n",
       "   {'cmp_name': 'GRZ_20230319_20250215_30-50_F_GBP',\n",
       "    'cmp_bgt': 225838,\n",
       "    'cmp_spent': 7676,\n",
       "    'cmp_clicks': 49377,\n",
       "    'cmp_impr': 500002},\n",
       "   {'cmp_name': 'KTR_20221216_20240619_45-55_F_EUR',\n",
       "    'cmp_bgt': 1564,\n",
       "    'cmp_spent': 702,\n",
       "    'cmp_clicks': 17145,\n",
       "    'cmp_impr': 500000}]},\n",
       " {'user': '{\"username\": \"johnsonjanice\", \"name\": \"Joseph Coleman\", \"gender\": \"M\", \"email\": \"gwhite@example.org\", \"age\": 74, \"address\": \"9685 Strong Village\\\\nNew Morgan, AK 50653\"}',\n",
       "  'campaigns': [{'cmp_name': 'KTR_20220202_20230226_45-60_F_EUR',\n",
       "    'cmp_bgt': 948469,\n",
       "    'cmp_spent': 911684,\n",
       "    'cmp_clicks': 13641,\n",
       "    'cmp_impr': 500001},\n",
       "   {'cmp_name': 'GRZ_20220925_20240806_20-45_M_USD',\n",
       "    'cmp_bgt': 707903,\n",
       "    'cmp_spent': 229469,\n",
       "    'cmp_clicks': 30325,\n",
       "    'cmp_impr': 499999},\n",
       "   {'cmp_name': 'GRZ_20220909_20230405_25-30_F_EUR',\n",
       "    'cmp_bgt': 190128,\n",
       "    'cmp_spent': 91226,\n",
       "    'cmp_clicks': 69932,\n",
       "    'cmp_impr': 499999},\n",
       "   {'cmp_name': 'GRZ_20210926_20220710_40-50_F_GBP',\n",
       "    'cmp_bgt': 177763,\n",
       "    'cmp_spent': 50255,\n",
       "    'cmp_clicks': 67444,\n",
       "    'cmp_impr': 500004},\n",
       "   {'cmp_name': 'GRZ_20220712_20221118_20-25_B_GBP',\n",
       "    'cmp_bgt': 604725,\n",
       "    'cmp_spent': 375033,\n",
       "    'cmp_clicks': 81159,\n",
       "    'cmp_impr': 500001}]}]"
      ]
     },
     "execution_count": 19,
     "metadata": {},
     "output_type": "execute_result"
    }
   ],
   "source": [
    "rough_data = get_data(user)\n",
    "rough_data[:2]"
   ]
  },
  {
   "cell_type": "code",
   "execution_count": 20,
   "id": "4d8b585f",
   "metadata": {},
   "outputs": [
    {
     "data": {
      "text/plain": [
       "[{'cmp_name': 'GRZ_20220709_20220727_35-40_F_EUR',\n",
       "  'cmp_bgt': 59433,\n",
       "  'cmp_spent': 24647,\n",
       "  'cmp_clicks': 31515,\n",
       "  'cmp_impr': 500001,\n",
       "  'user': '{\"username\": \"gparks\", \"name\": \"Becky Williamson\", \"gender\": \"F\", \"email\": \"clementscaitlin@example.net\", \"age\": 34, \"address\": \"2000 Thomas Locks\\\\nNicholsstad, GA 57596\"}'},\n",
       " {'cmp_name': 'AKX_20211015_20221217_30-45_F_USD',\n",
       "  'cmp_bgt': 69479,\n",
       "  'cmp_spent': 35410,\n",
       "  'cmp_clicks': 30102,\n",
       "  'cmp_impr': 499997,\n",
       "  'user': '{\"username\": \"gparks\", \"name\": \"Becky Williamson\", \"gender\": \"F\", \"email\": \"clementscaitlin@example.net\", \"age\": 34, \"address\": \"2000 Thomas Locks\\\\nNicholsstad, GA 57596\"}'}]"
      ]
     },
     "execution_count": 20,
     "metadata": {},
     "output_type": "execute_result"
    }
   ],
   "source": [
    "data = []\n",
    "for datum in rough_data:\n",
    "    for campaign in datum['campaigns']:\n",
    "        campaign.update({'user':datum['user']})\n",
    "        data.append(campaign)\n",
    "data[:2]"
   ]
  },
  {
   "cell_type": "code",
   "execution_count": 21,
   "id": "206c7260",
   "metadata": {},
   "outputs": [
    {
     "data": {
      "text/plain": [
       "(1000, 5104)"
      ]
     },
     "execution_count": 21,
     "metadata": {},
     "output_type": "execute_result"
    }
   ],
   "source": [
    "len(rough_data), len(data)"
   ]
  },
  {
   "cell_type": "code",
   "execution_count": 23,
   "id": "52ddc3e7",
   "metadata": {},
   "outputs": [],
   "source": [
    "with open('data.json','w') as stream:\n",
    "    stream.write(json.dumps(data))"
   ]
  },
  {
   "cell_type": "code",
   "execution_count": null,
   "id": "70642b78",
   "metadata": {},
   "outputs": [],
   "source": []
  }
 ],
 "metadata": {
  "kernelspec": {
   "display_name": "Python 3 (ipykernel)",
   "language": "python",
   "name": "python3"
  },
  "language_info": {
   "codemirror_mode": {
    "name": "ipython",
    "version": 3
   },
   "file_extension": ".py",
   "mimetype": "text/x-python",
   "name": "python",
   "nbconvert_exporter": "python",
   "pygments_lexer": "ipython3",
   "version": "3.9.2"
  }
 },
 "nbformat": 4,
 "nbformat_minor": 5
}
