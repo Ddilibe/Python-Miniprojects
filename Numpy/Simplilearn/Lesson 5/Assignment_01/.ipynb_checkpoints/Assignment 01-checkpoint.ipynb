{
 "cells": [
  {
   "cell_type": "markdown",
   "metadata": {},
   "source": [
    "<img src=\"http://cfs22.simplicdn.net/ice9/new_logo.svgz \"/>\n",
    "\n",
    "# Assignment 01: Evaluate the GDP Dataset\n",
    "\n",
    "*The comments/sections provided are your cues to perform the assignment. You don't need to limit yourself to the number of rows/cells provided. You can add additional rows in each section to add more lines of code.*\n",
    "\n",
    "*If at any point in time you need help on solving this assignment, view our demo video to understand the different steps of the code.*\n",
    "\n",
    "**Happy coding!**\n",
    "\n",
    "* * *"
   ]
  },
  {
   "cell_type": "markdown",
   "metadata": {},
   "source": [
    "#### 1: View and add the dataset"
   ]
  },
  {
   "cell_type": "code",
   "execution_count": 23,
   "metadata": {},
   "outputs": [],
   "source": [
    "#Import required library\n",
    "import numpy as np"
   ]
  },
  {
   "cell_type": "code",
   "execution_count": 24,
   "metadata": {},
   "outputs": [],
   "source": [
    "#Manually add the dataset\n",
    "list_of_countries = ['Algeria','Angola','Argentina','Australia','Austria','Bahamas','Bangladesh',\n",
    "                     'Belarus','Belgium','Bhutan','Brazil','Bulgaria','Cambodia','Cameroon','Chile',\n",
    "                     'China','Colombia','Cyprus','Denmark','El Salvador','Estonia','Ethiopia','Fiji',\n",
    "                     'Finland','France','Georgia','Ghana','Grenada','Guinea','Haiti','Honduras','Hungary',\n",
    "                     'India','Indonesia','Ireland','Italy','Japan','Kenya', 'South Korea','Liberia','Malaysia',\n",
    "                     'Mexico', 'Morocco','Nepal','New Zealand','Norway','Pakistan', 'Peru','Qatar','Russia',\n",
    "                     'Singapore','South Africa','Spain','Sweden','Switzerland','Thailand', 'United Arab Emirates',\n",
    "                     'United Kingdom','United States','Uruguay','Venezuela','Vietnam','Zimbabwe']\n",
    "gdp_of_countries = [2255.225482,629.9553062,11601.63022,25306.82494,27266.40335,19466.99052,588.3691778,2890.345675\n",
    "                    ,24733.62696,1445.760002,4803.398244,2618.876037,590.4521124,665.7982328,7122.938458,2639.54156\n",
    "                    ,3362.4656,15378.16704,30860.12808,2579.115607,6525.541272,229.6769525,2242.689259,27570.4852\n",
    "                    ,23016.84778,1334.646773,402.6953275,6047.200797,394.1156638,385.5793827,1414.072488,5745.981529\n",
    "                    ,837.7464011,1206.991065,27715.52837,18937.24998,39578.07441,478.2194906,16684.21278,279.2204061\n",
    "                    ,5345.213415,6288.25324,1908.304416,274.8728621,14646.42094,40034.85063,672.1547506,3359.517402\n",
    "                    ,36152.66676,3054.727742,33529.83052,3825.093781,15428.32098,33630.24604,39170.41371,2699.123242\n",
    "                    ,21058.43643,28272.40661,37691.02733,9581.05659,5671.912202,757.4009286,347.7456605]\n",
    "np_countries = np.array(list_of_countries)\n",
    "np_gdp = np.array(gdp_of_countries)"
   ]
  },
  {
   "cell_type": "markdown",
   "metadata": {
    "collapsed": true
   },
   "source": [
    "#### 2: Find and print the name of the country with the highest GDP"
   ]
  },
  {
   "cell_type": "code",
   "execution_count": 25,
   "metadata": {},
   "outputs": [
    {
     "data": {
      "text/plain": [
       "45"
      ]
     },
     "execution_count": 25,
     "metadata": {},
     "output_type": "execute_result"
    }
   ],
   "source": [
    "#Use the argmax() method to find the highest GDP\n",
    "country_with_highest_gdp = np_gdp.argmax()\n",
    "country_with_highest_gdp"
   ]
  },
  {
   "cell_type": "code",
   "execution_count": 26,
   "metadata": {},
   "outputs": [
    {
     "name": "stdout",
     "output_type": "stream",
     "text": [
      "Norway\n"
     ]
    }
   ],
   "source": [
    "#Print the name of the country\n",
    "print(np_countries[country_with_highest_gdp])"
   ]
  },
  {
   "cell_type": "markdown",
   "metadata": {},
   "source": [
    "#### 3: Find and print the name of the country with the lowest GDP"
   ]
  },
  {
   "cell_type": "code",
   "execution_count": 27,
   "metadata": {},
   "outputs": [],
   "source": [
    "#Use the argmin() method to find the lowest GDP\n",
    "country_with_lowest_gdp = np_gdp.argmin()"
   ]
  },
  {
   "cell_type": "code",
   "execution_count": 30,
   "metadata": {},
   "outputs": [
    {
     "name": "stdout",
     "output_type": "stream",
     "text": [
      "Ethiopia\n"
     ]
    }
   ],
   "source": [
    "#Print the name of the country\n",
    "print(np_countries[country_with_lowest_gdp])"
   ]
  },
  {
   "cell_type": "markdown",
   "metadata": {},
   "source": [
    "#### 4: Print out text ('evaluating country') and input value ('country name') iteratively"
   ]
  },
  {
   "cell_type": "code",
   "execution_count": 31,
   "metadata": {},
   "outputs": [
    {
     "name": "stdout",
     "output_type": "stream",
     "text": [
      "evaluating country Algeria\n",
      "evaluating country Angola\n",
      "evaluating country Argentina\n",
      "evaluating country Australia\n",
      "evaluating country Austria\n",
      "evaluating country Bahamas\n",
      "evaluating country Bangladesh\n",
      "evaluating country Belarus\n",
      "evaluating country Belgium\n",
      "evaluating country Bhutan\n",
      "evaluating country Brazil\n",
      "evaluating country Bulgaria\n",
      "evaluating country Cambodia\n",
      "evaluating country Cameroon\n",
      "evaluating country Chile\n",
      "evaluating country China\n",
      "evaluating country Colombia\n",
      "evaluating country Cyprus\n",
      "evaluating country Denmark\n",
      "evaluating country El Salvador\n",
      "evaluating country Estonia\n",
      "evaluating country Ethiopia\n",
      "evaluating country Fiji\n",
      "evaluating country Finland\n",
      "evaluating country France\n",
      "evaluating country Georgia\n",
      "evaluating country Ghana\n",
      "evaluating country Grenada\n",
      "evaluating country Guinea\n",
      "evaluating country Haiti\n",
      "evaluating country Honduras\n",
      "evaluating country Hungary\n",
      "evaluating country India\n",
      "evaluating country Indonesia\n",
      "evaluating country Ireland\n",
      "evaluating country Italy\n",
      "evaluating country Japan\n",
      "evaluating country Kenya\n",
      "evaluating country South Korea\n",
      "evaluating country Liberia\n",
      "evaluating country Malaysia\n",
      "evaluating country Mexico\n",
      "evaluating country Morocco\n",
      "evaluating country Nepal\n",
      "evaluating country New Zealand\n",
      "evaluating country Norway\n",
      "evaluating country Pakistan\n",
      "evaluating country Peru\n",
      "evaluating country Qatar\n",
      "evaluating country Russia\n",
      "evaluating country Singapore\n",
      "evaluating country South Africa\n",
      "evaluating country Spain\n",
      "evaluating country Sweden\n",
      "evaluating country Switzerland\n",
      "evaluating country Thailand\n",
      "evaluating country United Arab Emirates\n",
      "evaluating country United Kingdom\n",
      "evaluating country United States\n",
      "evaluating country Uruguay\n",
      "evaluating country Venezuela\n",
      "evaluating country Vietnam\n",
      "evaluating country Zimbabwe\n"
     ]
    }
   ],
   "source": [
    "#Use a for loop to print the required output\n",
    "for i in np_countries:\n",
    "    print(f\"evaluating country {i}\")"
   ]
  },
  {
   "cell_type": "markdown",
   "metadata": {},
   "source": [
    "#### 5: Print out the entire list of the countries with their GDPs"
   ]
  },
  {
   "cell_type": "code",
   "execution_count": 32,
   "metadata": {},
   "outputs": [
    {
     "name": "stdout",
     "output_type": "stream",
     "text": [
      "Algeria     2255.225482\n",
      "Angola     629.9553062\n",
      "Argentina     11601.63022\n",
      "Australia     25306.82494\n",
      "Austria     27266.40335\n",
      "Bahamas     19466.99052\n",
      "Bangladesh     588.3691778\n",
      "Belarus     2890.345675\n",
      "Belgium     24733.62696\n",
      "Bhutan     1445.760002\n",
      "Brazil     4803.398244\n",
      "Bulgaria     2618.876037\n",
      "Cambodia     590.4521124\n",
      "Cameroon     665.7982328\n",
      "Chile     7122.938458\n",
      "China     2639.54156\n",
      "Colombia     3362.4656\n",
      "Cyprus     15378.16704\n",
      "Denmark     30860.12808\n",
      "El Salvador     2579.115607\n",
      "Estonia     6525.541272\n",
      "Ethiopia     229.6769525\n",
      "Fiji     2242.689259\n",
      "Finland     27570.4852\n",
      "France     23016.84778\n",
      "Georgia     1334.646773\n",
      "Ghana     402.6953275\n",
      "Grenada     6047.200797\n",
      "Guinea     394.1156638\n",
      "Haiti     385.5793827\n",
      "Honduras     1414.072488\n",
      "Hungary     5745.981529\n",
      "India     837.7464011\n",
      "Indonesia     1206.991065\n",
      "Ireland     27715.52837\n",
      "Italy     18937.24998\n",
      "Japan     39578.07441\n",
      "Kenya     478.2194906\n",
      "South Korea     16684.21278\n",
      "Liberia     279.2204061\n",
      "Malaysia     5345.213415\n",
      "Mexico     6288.25324\n",
      "Morocco     1908.304416\n",
      "Nepal     274.8728621\n",
      "New Zealand     14646.42094\n",
      "Norway     40034.85063\n",
      "Pakistan     672.1547506\n",
      "Peru     3359.517402\n",
      "Qatar     36152.66676\n",
      "Russia     3054.727742\n",
      "Singapore     33529.83052\n",
      "South Africa     3825.093781\n",
      "Spain     15428.32098\n",
      "Sweden     33630.24604\n",
      "Switzerland     39170.41371\n",
      "Thailand     2699.123242\n",
      "United Arab Emirates     21058.43643\n",
      "United Kingdom     28272.40661\n",
      "United States     37691.02733\n",
      "Uruguay     9581.05659\n",
      "Venezuela     5671.912202\n",
      "Vietnam     757.4009286\n",
      "Zimbabwe     347.7456605\n"
     ]
    }
   ],
   "source": [
    "#Use a for loop to print the required list\n",
    "for i in range(0,len(np_gdp)):\n",
    "    print(f\"{np_countries[i]}     {np_gdp[i]}\")"
   ]
  },
  {
   "cell_type": "markdown",
   "metadata": {},
   "source": [
    "#### 6: Print the following:\n",
    "1. Highest GPD value\n",
    "2. Lowest GDP value\n",
    "3. Mean GDP value\n",
    "4. Standardized GDP value\n",
    "5. Sum of all the GDPs"
   ]
  },
  {
   "cell_type": "code",
   "execution_count": 29,
   "metadata": {},
   "outputs": [
    {
     "name": "stdout",
     "output_type": "stream",
     "text": [
      "40034.85063\n",
      "229.6769525\n",
      "11289.409271639683\n",
      "12743.828910617945\n",
      "711232.7841133\n"
     ]
    }
   ],
   "source": [
    "print(np_gdp.max())\n",
    "print(np_gdp.min())\n",
    "print(np_gdp.mean())\n",
    "print(np_gdp.std())\n",
    "print(np_gdp.sum())"
   ]
  },
  {
   "cell_type": "code",
   "execution_count": null,
   "metadata": {},
   "outputs": [],
   "source": []
  }
 ],
 "metadata": {
  "kernelspec": {
   "display_name": "Python 3 (ipykernel)",
   "language": "python",
   "name": "python3"
  },
  "language_info": {
   "codemirror_mode": {
    "name": "ipython",
    "version": 3
   },
   "file_extension": ".py",
   "mimetype": "text/x-python",
   "name": "python",
   "nbconvert_exporter": "python",
   "pygments_lexer": "ipython3",
   "version": "3.9.2"
  }
 },
 "nbformat": 4,
 "nbformat_minor": 1
}
