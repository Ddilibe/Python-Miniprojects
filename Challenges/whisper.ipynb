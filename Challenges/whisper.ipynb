{
 "cells": [
  {
   "cell_type": "markdown",
   "id": "9c47f9e8",
   "metadata": {},
   "source": [
    "# Whisper"
   ]
  },
  {
   "cell_type": "raw",
   "id": "fe081f7b",
   "metadata": {},
   "source": [
    "    Whisper is an automatic speech recongnition system which is used to transcribe and translate audio data into text format. It use a wide range of language ranging from english to french and others. One advantage of whisper is it can be used as a command line program and it can be import in a script to be initialiated."
   ]
  },
  {
   "cell_type": "markdown",
   "id": "c6ff318c",
   "metadata": {},
   "source": [
    "# Testing and using Whisper"
   ]
  },
  {
   "cell_type": "code",
   "execution_count": null,
   "id": "a79703df",
   "metadata": {},
   "outputs": [],
   "source": [
    "\"\"\"\n",
    "    To get started\n",
    "        pip install git+https://github.com/openai/whisper.git \n",
    "\"\"\""
   ]
  },
  {
   "cell_type": "code",
   "execution_count": null,
   "id": "293d2e57",
   "metadata": {},
   "outputs": [],
   "source": [
    "import whisper"
   ]
  },
  {
   "cell_type": "code",
   "execution_count": null,
   "id": "bd8e10a7",
   "metadata": {},
   "outputs": [],
   "source": [
    "\"\"\"\n",
    "    Whisper has 5 models on which it can be used to trnasscribe an audio to text.\n",
    "    They include tiny, base, small, meduim, large. \n",
    "    Each of them in heirachy of arccuracy and computing power.\n",
    "    The model, tiny will be less acurrate but a lot fast while the model large will be more arcurate but less fast.\n",
    "    \n",
    "    The load_model function is used to load a prefereable model of your choice\n",
    "    Each depending on the device and the length in time you would want it to work out.\n",
    "\"\"\"\n",
    "model = whisper.load_model(\"base\")"
   ]
  },
  {
   "cell_type": "code",
   "execution_count": null,
   "id": "6bc24cec",
   "metadata": {},
   "outputs": [],
   "source": [
    "\"\"\"\n",
    "    The load function is used to import the audio which would be used to make the animation\n",
    "\"\"\"\n",
    "\n",
    "audio = whisper.load_audio(\"audio_file.mp3\")"
   ]
  },
  {
   "cell_type": "code",
   "execution_count": null,
   "id": "0ee1ace3",
   "metadata": {},
   "outputs": [],
   "source": [
    "audio = whisper.pad_or_trim(audio)"
   ]
  },
  {
   "cell_type": "code",
   "execution_count": null,
   "id": "2015df5e",
   "metadata": {},
   "outputs": [],
   "source": [
    "# make log-Mel spectrogram and move to the same device as the model\n",
    "mel = whisper.log_mel_spectrogram(audio).to(model.device)\n"
   ]
  },
  {
   "cell_type": "code",
   "execution_count": null,
   "id": "f3dd29db",
   "metadata": {},
   "outputs": [],
   "source": [
    "# detect the spoken language\n",
    "\"\"\"\n",
    "    The detect_language  function is used to detect the language of the audio input\n",
    "\"\"\"\n",
    "_, probs = model.detect_language(mel)\n",
    "print(f\"Detected language: {max(probs, key=probs.get)}\")\n"
   ]
  },
  {
   "cell_type": "code",
   "execution_count": null,
   "id": "26d73c57",
   "metadata": {},
   "outputs": [],
   "source": [
    "# decode the audio\n",
    "\n",
    "\"\"\"\n",
    "    the decode function is ued to decode the audio into text\n",
    "\"\"\"\n",
    "options = whisper.DecodingOptions()\n",
    "result = whisper.decode(model, mel, options)"
   ]
  },
  {
   "cell_type": "code",
   "execution_count": null,
   "id": "516d3583",
   "metadata": {},
   "outputs": [],
   "source": [
    "\n",
    "# print the recognized text\n",
    "print(result.text)"
   ]
  }
 ],
 "metadata": {
  "kernelspec": {
   "display_name": "Python 3 (ipykernel)",
   "language": "python",
   "name": "python3"
  }
 },
 "nbformat": 4,
 "nbformat_minor": 5
}
