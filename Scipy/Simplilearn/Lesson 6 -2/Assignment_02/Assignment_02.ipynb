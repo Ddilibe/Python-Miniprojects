{
 "cells": [
  {
   "cell_type": "markdown",
   "metadata": {
    "collapsed": true
   },
   "source": [
    "<img src=\"http://cfs22.simplicdn.net/ice9/new_logo.svgz \"/>\n",
    "\n",
    "# Assignment 02: Perform CDF and PDF\n",
    "\n",
    "*The comments/sections provided are your cues to perform the assignment. You don't need to limit yourself to the number of rows/cells provided. You can add additional rows in each section to add more lines of code.*\n",
    "\n",
    "*If at any point in time you need help on solving this assignment, view our demo video to understand the different steps of the code.*\n",
    "\n",
    "**Happy coding!**\n",
    "\n",
    "* * *"
   ]
  },
  {
   "cell_type": "markdown",
   "metadata": {},
   "source": [
    "#### 1: Import required library\n"
   ]
  },
  {
   "cell_type": "code",
   "execution_count": 3,
   "metadata": {},
   "outputs": [],
   "source": [
    "from scipy.linalg import norm"
   ]
  },
  {
   "cell_type": "markdown",
   "metadata": {},
   "source": [
    "#### 2: Perfrom Cumulative Distribution Function or CDF on variables, with loc 1 and scale 3\n"
   ]
  },
  {
   "cell_type": "code",
   "execution_count": 8,
   "metadata": {},
   "outputs": [
    {
     "name": "stdout",
     "output_type": "stream",
     "text": [
      "Help on function norm in module scipy.linalg._misc:\n",
      "\n",
      "norm(a, ord=None, axis=None, keepdims=False, check_finite=True)\n",
      "    Matrix or vector norm.\n",
      "    \n",
      "    This function is able to return one of eight different matrix norms,\n",
      "    or one of an infinite number of vector norms (described below), depending\n",
      "    on the value of the ``ord`` parameter. For tensors with rank different from\n",
      "    1 or 2, only `ord=None` is supported.\n",
      "    \n",
      "    Parameters\n",
      "    ----------\n",
      "    a : array_like\n",
      "        Input array. If `axis` is None, `a` must be 1-D or 2-D, unless `ord`\n",
      "        is None. If both `axis` and `ord` are None, the 2-norm of\n",
      "        ``a.ravel`` will be returned.\n",
      "    ord : {int, inf, -inf, 'fro', 'nuc', None}, optional\n",
      "        Order of the norm (see table under ``Notes``). inf means NumPy's\n",
      "        `inf` object.\n",
      "    axis : {int, 2-tuple of ints, None}, optional\n",
      "        If `axis` is an integer, it specifies the axis of `a` along which to\n",
      "        compute the vector norms. If `axis` is a 2-tuple, it specifies the\n",
      "        axes that hold 2-D matrices, and the matrix norms of these matrices\n",
      "        are computed. If `axis` is None then either a vector norm (when `a`\n",
      "        is 1-D) or a matrix norm (when `a` is 2-D) is returned.\n",
      "    keepdims : bool, optional\n",
      "        If this is set to True, the axes which are normed over are left in the\n",
      "        result as dimensions with size one. With this option the result will\n",
      "        broadcast correctly against the original `a`.\n",
      "    check_finite : bool, optional\n",
      "        Whether to check that the input matrix contains only finite numbers.\n",
      "        Disabling may give a performance gain, but may result in problems\n",
      "        (crashes, non-termination) if the inputs do contain infinities or NaNs.\n",
      "    \n",
      "    Returns\n",
      "    -------\n",
      "    n : float or ndarray\n",
      "        Norm of the matrix or vector(s).\n",
      "    \n",
      "    Notes\n",
      "    -----\n",
      "    For values of ``ord <= 0``, the result is, strictly speaking, not a\n",
      "    mathematical 'norm', but it may still be useful for various numerical\n",
      "    purposes.\n",
      "    \n",
      "    The following norms can be calculated:\n",
      "    \n",
      "    =====  ============================  ==========================\n",
      "    ord    norm for matrices             norm for vectors\n",
      "    =====  ============================  ==========================\n",
      "    None   Frobenius norm                2-norm\n",
      "    'fro'  Frobenius norm                --\n",
      "    'nuc'  nuclear norm                  --\n",
      "    inf    max(sum(abs(a), axis=1))      max(abs(a))\n",
      "    -inf   min(sum(abs(a), axis=1))      min(abs(a))\n",
      "    0      --                            sum(a != 0)\n",
      "    1      max(sum(abs(a), axis=0))      as below\n",
      "    -1     min(sum(abs(a), axis=0))      as below\n",
      "    2      2-norm (largest sing. value)  as below\n",
      "    -2     smallest singular value       as below\n",
      "    other  --                            sum(abs(a)**ord)**(1./ord)\n",
      "    =====  ============================  ==========================\n",
      "    \n",
      "    The Frobenius norm is given by [1]_:\n",
      "    \n",
      "        :math:`||A||_F = [\\sum_{i,j} abs(a_{i,j})^2]^{1/2}`\n",
      "    \n",
      "    The nuclear norm is the sum of the singular values.\n",
      "    \n",
      "    Both the Frobenius and nuclear norm orders are only defined for\n",
      "    matrices.\n",
      "    \n",
      "    References\n",
      "    ----------\n",
      "    .. [1] G. H. Golub and C. F. Van Loan, *Matrix Computations*,\n",
      "           Baltimore, MD, Johns Hopkins University Press, 1985, pg. 15\n",
      "    \n",
      "    Examples\n",
      "    --------\n",
      "    >>> from scipy.linalg import norm\n",
      "    >>> a = np.arange(9) - 4.0\n",
      "    >>> a\n",
      "    array([-4., -3., -2., -1.,  0.,  1.,  2.,  3.,  4.])\n",
      "    >>> b = a.reshape((3, 3))\n",
      "    >>> b\n",
      "    array([[-4., -3., -2.],\n",
      "           [-1.,  0.,  1.],\n",
      "           [ 2.,  3.,  4.]])\n",
      "    \n",
      "    >>> norm(a)\n",
      "    7.745966692414834\n",
      "    >>> norm(b)\n",
      "    7.745966692414834\n",
      "    >>> norm(b, 'fro')\n",
      "    7.745966692414834\n",
      "    >>> norm(a, np.inf)\n",
      "    4\n",
      "    >>> norm(b, np.inf)\n",
      "    9\n",
      "    >>> norm(a, -np.inf)\n",
      "    0\n",
      "    >>> norm(b, -np.inf)\n",
      "    2\n",
      "    \n",
      "    >>> norm(a, 1)\n",
      "    20\n",
      "    >>> norm(b, 1)\n",
      "    7\n",
      "    >>> norm(a, -1)\n",
      "    -4.6566128774142013e-010\n",
      "    >>> norm(b, -1)\n",
      "    6\n",
      "    >>> norm(a, 2)\n",
      "    7.745966692414834\n",
      "    >>> norm(b, 2)\n",
      "    7.3484692283495345\n",
      "    \n",
      "    >>> norm(a, -2)\n",
      "    0\n",
      "    >>> norm(b, -2)\n",
      "    1.8570331885190563e-016\n",
      "    >>> norm(a, 3)\n",
      "    5.8480354764257312\n",
      "    >>> norm(a, -3)\n",
      "    0\n",
      "\n"
     ]
    }
   ],
   "source": [
    "help(norm)\n",
    "# norm.cdf(10,loc=1, scale=3)"
   ]
  },
  {
   "cell_type": "markdown",
   "metadata": {
    "collapsed": true
   },
   "source": [
    "#### 3: Perfrom Probability Density Function or PDF on variables, with loc 1 and scale 1"
   ]
  },
  {
   "cell_type": "code",
   "execution_count": 7,
   "metadata": {},
   "outputs": [
    {
     "ename": "AttributeError",
     "evalue": "'function' object has no attribute 'Pdf'",
     "output_type": "error",
     "traceback": [
      "\u001b[1;31m---------------------------------------------------------------------------\u001b[0m",
      "\u001b[1;31mAttributeError\u001b[0m                            Traceback (most recent call last)",
      "Input \u001b[1;32mIn [7]\u001b[0m, in \u001b[0;36m<cell line: 1>\u001b[1;34m()\u001b[0m\n\u001b[1;32m----> 1\u001b[0m \u001b[43mnorm\u001b[49m\u001b[38;5;241;43m.\u001b[39;49m\u001b[43mPdf\u001b[49m(\u001b[38;5;241m14\u001b[39m, loc\u001b[38;5;241m=\u001b[39m\u001b[38;5;241m1\u001b[39m, scale\u001b[38;5;241m=\u001b[39m\u001b[38;5;241m1\u001b[39m)\n",
      "\u001b[1;31mAttributeError\u001b[0m: 'function' object has no attribute 'Pdf'"
     ]
    }
   ],
   "source": [
    "norm.Pdf(14, loc=1, scale=1)"
   ]
  },
  {
   "cell_type": "code",
   "execution_count": null,
   "metadata": {},
   "outputs": [],
   "source": []
  }
 ],
 "metadata": {
  "kernelspec": {
   "display_name": "Python 3 (ipykernel)",
   "language": "python",
   "name": "python3"
  },
  "language_info": {
   "codemirror_mode": {
    "name": "ipython",
    "version": 3
   },
   "file_extension": ".py",
   "mimetype": "text/x-python",
   "name": "python",
   "nbconvert_exporter": "python",
   "pygments_lexer": "ipython3",
   "version": "3.9.2"
  }
 },
 "nbformat": 4,
 "nbformat_minor": 1
}
